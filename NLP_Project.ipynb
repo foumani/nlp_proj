{
 "cells": [
  {
   "cell_type": "code",
   "source": [
    "import pandas as pd\n",
    "import numpy as np\n",
    "import matplotlib.pyplot as plt\n",
    "from sklearn.feature_extraction.text import TfidfVectorizer\n",
    "from sklearn.model_selection import train_test_split\n",
    "import nltk\n",
    "from nltk.tokenize import word_tokenize\n",
    "from nltk.stem import WordNetLemmatizer\n",
    "from nltk.corpus import stopwords\n",
    "from tqdm import tqdm\n",
    "import json\n",
    "nltk.download('wordnet')\n",
    "nltk.download('stopwords')\n",
    "nltk.download('punkt')"
   ],
   "metadata": {
    "colab": {
     "base_uri": "https://localhost:8080/"
    },
    "id": "9nLRNOiAEOZ-",
    "outputId": "2a0b2fc7-9441-4c8b-b7c1-34ee3003e02c",
    "ExecuteTime": {
     "end_time": "2024-11-26T00:02:27.268734Z",
     "start_time": "2024-11-26T00:02:26.267496Z"
    }
   },
   "outputs": [
    {
     "name": "stderr",
     "output_type": "stream",
     "text": [
      "[nltk_data] Downloading package wordnet to /home/arash/nltk_data...\n",
      "[nltk_data]   Package wordnet is already up-to-date!\n",
      "[nltk_data] Downloading package stopwords to /home/arash/nltk_data...\n",
      "[nltk_data]   Package stopwords is already up-to-date!\n",
      "[nltk_data] Downloading package punkt to /home/arash/nltk_data...\n",
      "[nltk_data]   Package punkt is already up-to-date!\n"
     ]
    },
    {
     "data": {
      "text/plain": [
       "True"
      ]
     },
     "execution_count": 4,
     "metadata": {},
     "output_type": "execute_result"
    }
   ],
   "execution_count": 4
  },
  {
   "cell_type": "code",
   "metadata": {
    "colab": {
     "base_uri": "https://localhost:8080/",
     "height": 444
    },
    "id": "WxkMzaYq2ooB",
    "outputId": "1a3257b9-0fdb-4d5a-a670-bb2f0643d4c3",
    "ExecuteTime": {
     "end_time": "2024-11-25T23:24:33.574157Z",
     "start_time": "2024-11-25T23:24:31.820009Z"
    }
   },
   "source": [
    "df = pd.read_csv('data/Suicide_Detection.csv')\n",
    "\n",
    "df = df[[\"text\", \"class\"]]\n",
    "\n",
    "df"
   ],
   "outputs": [
    {
     "data": {
      "text/plain": [
       "                                                     text        class\n",
       "0       Ex Wife Threatening SuicideRecently I left my ...      suicide\n",
       "1       Am I weird I don't get affected by compliments...  non-suicide\n",
       "2       Finally 2020 is almost over... So I can never ...  non-suicide\n",
       "3               i need helpjust help me im crying so hard      suicide\n",
       "4       I’m so lostHello, my name is Adam (16) and I’v...      suicide\n",
       "...                                                   ...          ...\n",
       "232069  If you don't like rock then your not going to ...  non-suicide\n",
       "232070  You how you can tell i have so many friends an...  non-suicide\n",
       "232071  pee probably tastes like salty tea😏💦‼️ can som...  non-suicide\n",
       "232072  The usual stuff you find hereI'm not posting t...      suicide\n",
       "232073  I still haven't beaten the first boss in Hollo...  non-suicide\n",
       "\n",
       "[232074 rows x 2 columns]"
      ],
      "text/html": [
       "<div>\n",
       "<style scoped>\n",
       "    .dataframe tbody tr th:only-of-type {\n",
       "        vertical-align: middle;\n",
       "    }\n",
       "\n",
       "    .dataframe tbody tr th {\n",
       "        vertical-align: top;\n",
       "    }\n",
       "\n",
       "    .dataframe thead th {\n",
       "        text-align: right;\n",
       "    }\n",
       "</style>\n",
       "<table border=\"1\" class=\"dataframe\">\n",
       "  <thead>\n",
       "    <tr style=\"text-align: right;\">\n",
       "      <th></th>\n",
       "      <th>text</th>\n",
       "      <th>class</th>\n",
       "    </tr>\n",
       "  </thead>\n",
       "  <tbody>\n",
       "    <tr>\n",
       "      <th>0</th>\n",
       "      <td>Ex Wife Threatening SuicideRecently I left my ...</td>\n",
       "      <td>suicide</td>\n",
       "    </tr>\n",
       "    <tr>\n",
       "      <th>1</th>\n",
       "      <td>Am I weird I don't get affected by compliments...</td>\n",
       "      <td>non-suicide</td>\n",
       "    </tr>\n",
       "    <tr>\n",
       "      <th>2</th>\n",
       "      <td>Finally 2020 is almost over... So I can never ...</td>\n",
       "      <td>non-suicide</td>\n",
       "    </tr>\n",
       "    <tr>\n",
       "      <th>3</th>\n",
       "      <td>i need helpjust help me im crying so hard</td>\n",
       "      <td>suicide</td>\n",
       "    </tr>\n",
       "    <tr>\n",
       "      <th>4</th>\n",
       "      <td>I’m so lostHello, my name is Adam (16) and I’v...</td>\n",
       "      <td>suicide</td>\n",
       "    </tr>\n",
       "    <tr>\n",
       "      <th>...</th>\n",
       "      <td>...</td>\n",
       "      <td>...</td>\n",
       "    </tr>\n",
       "    <tr>\n",
       "      <th>232069</th>\n",
       "      <td>If you don't like rock then your not going to ...</td>\n",
       "      <td>non-suicide</td>\n",
       "    </tr>\n",
       "    <tr>\n",
       "      <th>232070</th>\n",
       "      <td>You how you can tell i have so many friends an...</td>\n",
       "      <td>non-suicide</td>\n",
       "    </tr>\n",
       "    <tr>\n",
       "      <th>232071</th>\n",
       "      <td>pee probably tastes like salty tea😏💦‼️ can som...</td>\n",
       "      <td>non-suicide</td>\n",
       "    </tr>\n",
       "    <tr>\n",
       "      <th>232072</th>\n",
       "      <td>The usual stuff you find hereI'm not posting t...</td>\n",
       "      <td>suicide</td>\n",
       "    </tr>\n",
       "    <tr>\n",
       "      <th>232073</th>\n",
       "      <td>I still haven't beaten the first boss in Hollo...</td>\n",
       "      <td>non-suicide</td>\n",
       "    </tr>\n",
       "  </tbody>\n",
       "</table>\n",
       "<p>232074 rows × 2 columns</p>\n",
       "</div>"
      ]
     },
     "execution_count": 13,
     "metadata": {},
     "output_type": "execute_result"
    }
   ],
   "execution_count": 13
  },
  {
   "cell_type": "code",
   "source": [
    "suicide_count = df[df['class'] == \"suicide\"].shape[0]\n",
    "non_suicide_count = df[df['class'] == \"non-suicide\"].shape[0]\n",
    "\n",
    "print(f\"Number of 'suicide' tags: {suicide_count}\")\n",
    "print(f\"Number of 'non-suicide' tags: {non_suicide_count}\")\n",
    "\n",
    "df['class'].value_counts().plot.pie(autopct='%1.1f%%', labels=['suicide', 'non-suicide'], colors=['blue', 'red'])"
   ],
   "metadata": {
    "colab": {
     "base_uri": "https://localhost:8080/",
     "height": 479
    },
    "id": "bzqKRbBcM-RS",
    "outputId": "33c93ef0-0239-45d7-ec65-2d19bf4c5c1a",
    "ExecuteTime": {
     "end_time": "2024-11-25T23:24:33.661693Z",
     "start_time": "2024-11-25T23:24:33.576148Z"
    }
   },
   "outputs": [
    {
     "name": "stdout",
     "output_type": "stream",
     "text": [
      "Number of 'suicide' tags: 116037\n",
      "Number of 'non-suicide' tags: 116037\n"
     ]
    },
    {
     "data": {
      "text/plain": [
       "<Axes: ylabel='count'>"
      ]
     },
     "execution_count": 14,
     "metadata": {},
     "output_type": "execute_result"
    },
    {
     "data": {
      "text/plain": [
       "<Figure size 640x480 with 1 Axes>"
      ],
      "image/png": "[encoded data removed]"
     },
     "metadata": {},
     "output_type": "display_data"
    }
   ],
   "execution_count": 14
  },
  {
   "cell_type": "code",
   "source": [
    "df['label'] = df['class'].apply(lambda x: 1 if x == 'suicide' else 0)"
   ],
   "metadata": {
    "id": "YMd8RHhZV5Y4",
    "ExecuteTime": {
     "end_time": "2024-11-25T23:24:33.714843Z",
     "start_time": "2024-11-25T23:24:33.662709Z"
    }
   },
   "outputs": [],
   "execution_count": 15
  },
  {
   "cell_type": "code",
   "source": [
    "display(f'Number of nulls in text  => {df[\"text\"].isnull().sum()}')\n",
    "display(f'Number of nulls in class => {df[\"class\"].isnull().sum()}')"
   ],
   "metadata": {
    "colab": {
     "base_uri": "https://localhost:8080/",
     "height": 73
    },
    "id": "oQamEIEaLoLO",
    "outputId": "94c7f075-3aa4-49fa-8f21-f7af5a2a0a30",
    "ExecuteTime": {
     "end_time": "2024-11-25T23:24:33.753998Z",
     "start_time": "2024-11-25T23:24:33.716474Z"
    }
   },
   "outputs": [
    {
     "data": {
      "text/plain": [
       "'Number of nulls in text  => 0'"
      ]
     },
     "metadata": {},
     "output_type": "display_data"
    },
    {
     "data": {
      "text/plain": [
       "'Number of nulls in class => 0'"
      ]
     },
     "metadata": {},
     "output_type": "display_data"
    }
   ],
   "execution_count": 16
  },
  {
   "cell_type": "code",
   "metadata": {
    "id": "dCQ3CYAJ6Ew_",
    "ExecuteTime": {
     "end_time": "2024-11-25T23:24:33.818624Z",
     "start_time": "2024-11-25T23:24:33.754922Z"
    }
   },
   "source": "X_train, X_test, y_train, y_test = train_test_split(df['text'], df['label'], test_size=0.2, random_state=0)",
   "outputs": [],
   "execution_count": 17
  },
  {
   "metadata": {
    "ExecuteTime": {
     "end_time": "2024-11-25T23:24:33.822233Z",
     "start_time": "2024-11-25T23:24:33.819885Z"
    }
   },
   "cell_type": "code",
   "source": [
    "# X_train = X_train[:10000]\n",
    "# y_train = y_train[:10000]\n",
    "# X_test = X_test[:10000]\n",
    "# y_test = y_test[:10000]"
   ],
   "outputs": [],
   "execution_count": 18
  },
  {
   "metadata": {
    "ExecuteTime": {
     "end_time": "2024-11-25T23:24:33.825709Z",
     "start_time": "2024-11-25T23:24:33.823157Z"
    }
   },
   "cell_type": "code",
   "source": "print(X_train.shape)",
   "outputs": [
    {
     "name": "stdout",
     "output_type": "stream",
     "text": [
      "(185659,)\n"
     ]
    }
   ],
   "execution_count": 19
  },
  {
   "metadata": {
    "ExecuteTime": {
     "end_time": "2024-11-25T23:24:33.829775Z",
     "start_time": "2024-11-25T23:24:33.826580Z"
    }
   },
   "cell_type": "code",
   "source": "print(X_train)",
   "outputs": [
    {
     "name": "stdout",
     "output_type": "stream",
     "text": [
      "72954     Long Distance relationship tips? So basically ...\n",
      "103428    Beginning to give up on my girlfriendMy girlfr...\n",
      "56933     Friend is suicidal. Please please help.My frie...\n",
      "18662     Rapunzel isn’t my Valentine today Time to just...\n",
      "8399      It’s been a long timeI’ve had a good streak fo...\n",
      "                                ...                        \n",
      "176963    Best idea is prob to kill myselfThinking about...\n",
      "117952    I'm not in any immediate dangerBut on a scale ...\n",
      "173685    Questioning morality I guess that title's pret...\n",
      "43567     Life is awesome, but despite best efforts, i'm...\n",
      "199340    Yea sex is cool but Have you ever tamed a wolf...\n",
      "Name: text, Length: 185659, dtype: object\n"
     ]
    }
   ],
   "execution_count": 20
  },
  {
   "cell_type": "code",
   "metadata": {
    "id": "CjYaplmY6tlR",
    "ExecuteTime": {
     "end_time": "2024-11-25T23:26:46.704757Z",
     "start_time": "2024-11-25T23:24:33.830695Z"
    }
   },
   "source": [
    "n_train, n_test = X_train.shape[0], X_test.shape[0]\n",
    "\n",
    "X_train_token = dict()\n",
    "for x, line in tqdm(X_train.items(), total=n_train):\n",
    "    X_train_token[x] = word_tokenize(line)\n",
    "    \n",
    "X_test_token = dict()\n",
    "for x, line in tqdm(X_test.items(), total=n_test):\n",
    "    X_test_token[x] = word_tokenize(line) "
   ],
   "outputs": [
    {
     "name": "stderr",
     "output_type": "stream",
     "text": [
      "100%|██████████| 185659/185659 [01:45<00:00, 1760.52it/s]\n",
      "100%|██████████| 46415/46415 [00:27<00:00, 1698.31it/s]\n"
     ]
    }
   ],
   "execution_count": 21
  },
  {
   "metadata": {
    "ExecuteTime": {
     "end_time": "2024-11-25T23:28:05.277032Z",
     "start_time": "2024-11-25T23:26:46.707474Z"
    }
   },
   "cell_type": "code",
   "source": [
    "lemmatizer = WordNetLemmatizer()\n",
    "\n",
    "X_train_lemma = dict()\n",
    "for x, line in tqdm(X_train_token.items(), total=n_train):\n",
    "    X_train_lemma[x] = [lemmatizer.lemmatize(word) for word in line]\n",
    "\n",
    "X_test_lemma = dict()\n",
    "for x, line in tqdm(X_test_token.items(), total=n_test):\n",
    "    X_test_lemma[x] = [lemmatizer.lemmatize(word) for word in line]"
   ],
   "outputs": [
    {
     "name": "stderr",
     "output_type": "stream",
     "text": [
      "100%|██████████| 185659/185659 [01:02<00:00, 2994.09it/s]\n",
      "100%|██████████| 46415/46415 [00:16<00:00, 2804.14it/s]\n"
     ]
    }
   ],
   "execution_count": 22
  },
  {
   "metadata": {
    "ExecuteTime": {
     "end_time": "2024-11-25T23:52:22.614130Z",
     "start_time": "2024-11-25T23:28:05.278030Z"
    }
   },
   "cell_type": "code",
   "source": [
    "X_train_clear = dict()\n",
    "for i, (x, line) in tqdm(enumerate(X_train_lemma.items()), total=n_train):\n",
    "    X_train_clear[x] = [word for word in line if word not in stopwords.words('english')]\n",
    "    \n",
    "X_test_clear = dict()\n",
    "for i, (x, line) in tqdm(enumerate(X_test_lemma.items()), total=n_test):\n",
    "    X_test_clear[x] = [word for word in line if word not in stopwords.words('english')]"
   ],
   "outputs": [
    {
     "name": "stderr",
     "output_type": "stream",
     "text": [
      "100%|██████████| 185659/185659 [19:20<00:00, 160.05it/s]\n",
      "100%|██████████| 46415/46415 [04:57<00:00, 156.12it/s]\n"
     ]
    }
   ],
   "execution_count": 23
  },
  {
   "metadata": {
    "ExecuteTime": {
     "end_time": "2024-11-25T23:52:26.752987Z",
     "start_time": "2024-11-25T23:52:22.615418Z"
    }
   },
   "cell_type": "code",
   "source": [
    "X_train_clear_df = pd.DataFrame(X_train_clear.items(), columns=[\"id\", \"text\"])\n",
    "X_test_clear_df = pd.DataFrame(X_test_clear.items(), columns=[\"id\", \"text\"])\n",
    "X_test_clear_df[\"text\"] = X_test_clear_df[\"text\"].apply(json.dumps)\n",
    "X_train_clear_df[\"text\"] = X_train_clear_df[\"text\"].apply(json.dumps)"
   ],
   "outputs": [],
   "execution_count": 24
  },
  {
   "metadata": {
    "ExecuteTime": {
     "end_time": "2024-11-25T23:52:29.665791Z",
     "start_time": "2024-11-25T23:52:26.754098Z"
    }
   },
   "cell_type": "code",
   "source": [
    "X_test_clear_df.to_csv(\"data/test_cleared.csv\")\n",
    "X_train_clear_df.to_csv(\"data/train_cleared.csv\")\n",
    "y_train.to_csv(\"data/train_labels.csv\")\n",
    "y_test.to_csv(\"data/test_labels.csv\")"
   ],
   "outputs": [],
   "execution_count": 25
  },
  {
   "metadata": {},
   "cell_type": "markdown",
   "source": [
    "# Algorithms\n",
    "\n",
    "After preprocessing, the dataset is saved in CSV files. Here, we load the datasets and we apply the algorithms."
   ]
  },
  {
   "metadata": {
    "ExecuteTime": {
     "end_time": "2024-11-26T01:21:46.240743Z",
     "start_time": "2024-11-26T01:21:44.625744Z"
    }
   },
   "cell_type": "code",
   "source": [
    "import pandas as pd\n",
    "import numpy as np\n",
    "import matplotlib.pyplot as plt\n",
    "from sklearn.feature_extraction.text import TfidfVectorizer\n",
    "from sklearn.model_selection import train_test_split\n",
    "import nltk\n",
    "from nltk.tokenize import word_tokenize\n",
    "from nltk.stem import WordNetLemmatizer\n",
    "from nltk.corpus import stopwords\n",
    "from tqdm import tqdm\n",
    "import json\n",
    "import re\n",
    "nltk.download('wordnet')\n",
    "nltk.download('stopwords')\n",
    "nltk.download('punkt')"
   ],
   "outputs": [
    {
     "name": "stderr",
     "output_type": "stream",
     "text": [
      "[nltk_data] Downloading package wordnet to /home/arash/nltk_data...\n",
      "[nltk_data]   Package wordnet is already up-to-date!\n",
      "[nltk_data] Downloading package stopwords to /home/arash/nltk_data...\n",
      "[nltk_data]   Package stopwords is already up-to-date!\n",
      "[nltk_data] Downloading package punkt to /home/arash/nltk_data...\n",
      "[nltk_data]   Package punkt is already up-to-date!\n"
     ]
    },
    {
     "data": {
      "text/plain": [
       "True"
      ]
     },
     "execution_count": 1,
     "metadata": {},
     "output_type": "execute_result"
    }
   ],
   "execution_count": 1
  },
  {
   "metadata": {
    "ExecuteTime": {
     "end_time": "2024-11-26T01:21:51.970320Z",
     "start_time": "2024-11-26T01:21:46.243221Z"
    }
   },
   "cell_type": "code",
   "source": [
    "X_test_clear_df = pd.read_csv('data/test_cleared.csv', index_col=0)\n",
    "X_test_clear_df[\"text\"] = X_test_clear_df[\"text\"].apply(json.loads)\n",
    "y_test_df = pd.read_csv(\"data/test_labels.csv\", index_col=0)\n",
    "\n",
    "X_train_clear_df = pd.read_csv('data/train_cleared.csv', index_col=0)\n",
    "X_train_clear_df[\"text\"] = X_train_clear_df[\"text\"].apply(json.loads)\n",
    "y_train_df = pd.read_csv(\"data/train_labels.csv\", index_col=0)"
   ],
   "outputs": [],
   "execution_count": 2
  },
  {
   "metadata": {
    "ExecuteTime": {
     "end_time": "2024-11-26T01:21:52.031962Z",
     "start_time": "2024-11-26T01:21:51.977119Z"
    }
   },
   "cell_type": "code",
   "source": [
    "X_train_clear = [line for line in X_train_clear_df[\"text\"]]\n",
    "X_test_clear = [line for line in X_test_clear_df[\"text\"]]\n",
    "y_train = y_train_df[\"label\"].tolist()\n",
    "y_test = y_test_df[\"label\"].tolist()"
   ],
   "outputs": [],
   "execution_count": 3
  },
  {
   "metadata": {
    "ExecuteTime": {
     "end_time": "2024-11-26T01:22:13.990317Z",
     "start_time": "2024-11-26T01:21:52.033417Z"
    }
   },
   "cell_type": "code",
   "source": [
    "# Function to remove non-English characters\n",
    "def remove_non_english_characters(text):\n",
    "    # Retain only English letters, and spaces\n",
    "    cleaned_text = re.sub(r'[^a-zA-Z\\s\\n\\t]', '', text)\n",
    "    return cleaned_text\n",
    "\n",
    "X_train_clear = [[remove_non_english_characters(word) for word in text if remove_non_english_characters(word) != \"\"] for text in X_train_clear]\n",
    "X_test_clear = [[remove_non_english_characters(word) for word in text if remove_non_english_characters(word) != \"\"] for text in X_test_clear]"
   ],
   "outputs": [],
   "execution_count": 4
  },
  {
   "metadata": {
    "ExecuteTime": {
     "end_time": "2024-11-26T01:22:21.691170Z",
     "start_time": "2024-11-26T01:22:13.992185Z"
    }
   },
   "cell_type": "code",
   "source": [
    "vectorizer = TfidfVectorizer(preprocessor=' '.join)\n",
    "\n",
    "X_train_vec = vectorizer.fit_transform(X_train_clear)\n",
    "\n",
    "# Apply the vectorizer to the test dataset\n",
    "X_test_vec = vectorizer.transform(X_test_clear)\n",
    "\n",
    "print(f\"Training TF-IDF shape: {X_train_vec.shape}\")\n",
    "print(f\"Test TF-IDF shape: {X_test_vec.shape}\")\n",
    "print(vectorizer.get_feature_names_out())\n",
    "\n",
    "display(X_test_vec.shape)"
   ],
   "outputs": [
    {
     "name": "stdout",
     "output_type": "stream",
     "text": [
      "Training TF-IDF shape: (185659, 188241)\n",
      "Test TF-IDF shape: (46415, 188241)\n",
      "['AA' 'AAA' 'AAAA' ... 'zzzzzzzz' 'zzzzzzzzz'\n",
      " 'zzzzzzzzzzzzzzxzzzzxzzzzzzzzzzzzz']\n"
     ]
    },
    {
     "data": {
      "text/plain": [
       "(46415, 188241)"
      ]
     },
     "metadata": {},
     "output_type": "display_data"
    }
   ],
   "execution_count": 5
  },
  {
   "metadata": {},
   "cell_type": "markdown",
   "source": [
    "# Simple Methods\n",
    "## Logistic Regression"
   ]
  },
  {
   "metadata": {
    "ExecuteTime": {
     "end_time": "2024-11-26T01:23:02.424662Z",
     "start_time": "2024-11-26T01:22:21.692675Z"
    }
   },
   "cell_type": "code",
   "source": [
    "from sklearn.linear_model import LogisticRegression\n",
    "from sklearn.metrics import accuracy_score, precision_score, recall_score, f1_score\n",
    "\n",
    "# Train a model of logistic regression\n",
    "clf = LogisticRegression().fit(X_train_vec, y_train)\n",
    "y_pred = clf.predict(X_test_vec)"
   ],
   "outputs": [],
   "execution_count": 6
  },
  {
   "metadata": {
    "ExecuteTime": {
     "end_time": "2024-11-26T01:23:02.519874Z",
     "start_time": "2024-11-26T01:23:02.426676Z"
    }
   },
   "cell_type": "code",
   "source": [
    "acc = accuracy_score(y_test, y_pred)\n",
    "precision = precision_score(y_test, y_pred)\n",
    "recall = recall_score(y_test, y_pred)\n",
    "f1 = f1_score(y_test, y_pred)"
   ],
   "outputs": [],
   "execution_count": 7
  },
  {
   "metadata": {
    "ExecuteTime": {
     "end_time": "2024-11-26T01:23:02.523892Z",
     "start_time": "2024-11-26T01:23:02.520927Z"
    }
   },
   "cell_type": "code",
   "source": "print(f\"The results for Linear Regression: accuracy {acc:.4f}, precision {precision:.4f}, recall: {recall:.4f}, f1-score: {f1:.4f}\")",
   "outputs": [
    {
     "name": "stdout",
     "output_type": "stream",
     "text": [
      "The results for Linear Regression: accuracy 0.9353, precision 0.9443, recall: 0.9257, f1-score: 0.9349\n"
     ]
    }
   ],
   "execution_count": 8
  },
  {
   "metadata": {},
   "cell_type": "markdown",
   "source": "## RNN"
  },
  {
   "metadata": {
    "ExecuteTime": {
     "end_time": "2024-11-26T01:23:04.963580Z",
     "start_time": "2024-11-26T01:23:02.524836Z"
    }
   },
   "cell_type": "code",
   "source": [
    "import torch.nn as nn\n",
    "import torch\n",
    "\n",
    "# Here is a simple implementation of the RNN model enabled by torch.\n",
    "\n",
    "# Using super to use the net like a layer (inherit nn.Module)\n",
    "class RNNNet(nn.Module):\n",
    "    def __init__(self, input_size, hidden_size, dropout=0.0, device = \"cpu\"):\n",
    "        super(RNNNet, self).__init__()\n",
    "        # Define the layers of the network\n",
    "        self.input_size = input_size\n",
    "        self.hidden_size = hidden_size\n",
    "        self.num_layers = 1\n",
    "        self.device = device\n",
    "        # Define the rnn layer here -- it can be RNN or LSTM.\n",
    "        self.rnn_layer = nn.LSTM(input_size=self.input_size,\n",
    "                                hidden_size=self.hidden_size,\n",
    "                                num_layers=self.num_layers,\n",
    "                                 dropout=dropout,\n",
    "                                batch_first=True,\n",
    "                                bidirectional=True)\n",
    "        self.output_layer = nn.Linear(2*self.hidden_size, 1)\n",
    "        self.sigmoid_layer = nn.Sigmoid()\n",
    "        \n",
    "    def forward(self, x):\n",
    "\n",
    "        # Initiate hidden layer h_0\n",
    "        h0 = torch.zeros(2*self.num_layers, x.size(0), self.hidden_size).to(self.device)\n",
    "        c0 = torch.zeros(2*self.num_layers, x.size(0), self.hidden_size).to(self.device)\n",
    "\n",
    "        # Run the RNN layer\n",
    "        out, _ = self.rnn_layer(x, (h0, c0))\n",
    "\n",
    "        # Given input, we need to pass the input through the layers\n",
    "        return self.sigmoid_layer(self.output_layer(out[:,-1,:]))"
   ],
   "outputs": [],
   "execution_count": 9
  },
  {
   "metadata": {
    "ExecuteTime": {
     "end_time": "2024-11-26T01:29:52.238754Z",
     "start_time": "2024-11-26T01:29:33.041555Z"
    }
   },
   "cell_type": "code",
   "source": [
    "import gensim\n",
    "import gensim.downloader\n",
    "\n",
    "glove = gensim.downloader.load(\"glove-twitter-25\")\n",
    "vocab = glove.key_to_index\n",
    "vectors = glove.vectors\n",
    "embeddings = torch.tensor(vectors)\n",
    "\n",
    "embedding_layer = nn.Embedding.from_pretrained(embeddings)\n",
    "embedding_layer.weight.requires_grad = False"
   ],
   "outputs": [],
   "execution_count": 26
  },
  {
   "metadata": {
    "ExecuteTime": {
     "end_time": "2024-11-26T01:29:54.532026Z",
     "start_time": "2024-11-26T01:29:54.528517Z"
    }
   },
   "cell_type": "code",
   "source": "len(X_train_clear)",
   "outputs": [
    {
     "data": {
      "text/plain": [
       "185659"
      ]
     },
     "execution_count": 27,
     "metadata": {},
     "output_type": "execute_result"
    }
   ],
   "execution_count": 27
  },
  {
   "metadata": {
    "ExecuteTime": {
     "end_time": "2024-11-26T01:55:32.400684Z",
     "start_time": "2024-11-26T01:55:32.395214Z"
    }
   },
   "cell_type": "code",
   "source": [
    "X_train_seq = None\n",
    "X_test_seq = None\n",
    "\n",
    "len_words = 200\n",
    "device = \"cuda:1\" if torch.cuda.is_available() else \"cpu\""
   ],
   "outputs": [],
   "execution_count": 52
  },
  {
   "metadata": {
    "ExecuteTime": {
     "end_time": "2024-11-26T01:56:58.159938Z",
     "start_time": "2024-11-26T01:56:47.906493Z"
    }
   },
   "cell_type": "code",
   "source": [
    "# Text to indices\n",
    "train_indices= [[vocab[word] for word in document[:len_words] if word in glove] for document in X_train_clear]\n",
    "test_indices = [[vocab[word] for word in document[:len_words] if word in glove] for document in X_test_clear]\n",
    "print(train_indices[0])\n",
    "\n",
    "# First pad the input to the same length as torch needs to process multi-\n",
    "# dimensional vectors\n",
    "from torch.nn.utils.rnn import pad_sequence\n",
    "train_sequences = pad_sequence([torch.tensor(s) for s in train_indices], batch_first=True, padding_value=0)\n",
    "test_sequences = pad_sequence([torch.tensor(s) for s in test_indices], batch_first=True, padding_value=0)\n",
    "print(train_sequences.shape)"
   ],
   "outputs": [
    {
     "name": "stdout",
     "output_type": "stream",
     "text": [
      "[990, 4635, 3208, 616, 258, 1423, 1371, 1302, 653, 670, 813, 264, 435, 1371, 571, 463, 5239, 990, 717, 1423, 1030, 9950, 115, 5270, 813, 9950, 631, 1709, 635, 4635, 129, 2276, 922, 698, 410, 1210, 63, 137, 2512, 173, 574, 9950, 5270, 115, 463, 137, 2512, 173, 574, 1090, 726412, 3186, 182, 1709, 1948, 190, 182, 4709, 990, 635, 4635, 363, 990, 200, 515, 182, 68, 5270, 6707, 173, 1103]\n",
      "torch.Size([185659, 200])\n"
     ]
    }
   ],
   "execution_count": 56
  },
  {
   "metadata": {
    "ExecuteTime": {
     "end_time": "2024-11-26T02:07:59.765785Z",
     "start_time": "2024-11-26T02:03:51.860078Z"
    }
   },
   "cell_type": "code",
   "source": [
    "from torch.nn.utils.rnn import pad_sequence\n",
    "# Now let's try the RNN model!\n",
    "# RNN requires some computing resource, so let's move to GPU.\n",
    "\n",
    "# Define the hyperparameters of model training\n",
    "lr = 0.001 # Learning rate\n",
    "epochs = 10 # Training epochs\n",
    "batch_size = 512\n",
    "\n",
    "print(vectors.shape)\n",
    "# Initialize model\n",
    "model = RNNNet(vectors.shape[-1], 128, device).to(device)\n",
    "# model = RNNNet(X_train_seq.size())\n",
    "\n",
    "# We use binary cross entropy as the loss\n",
    "loss_func = nn.CrossEntropyLoss()\n",
    "\n",
    "# Using Adam as the optimizer.\n",
    "optimizer = torch.optim.Adam(model.parameters(), lr=lr)\n",
    "\n",
    "# Putting labels in tensors\n",
    "y_train_tensor = torch.Tensor(y_train)\n",
    "y_test_tensor = torch.Tensor(y_test)\n",
    "losses = []\n",
    "n_train = train_sequences.shape[0]\n",
    "embedding_layer = embedding_layer.to(device)\n",
    "\n",
    "# Repeat the learning process for the number of epochs\n",
    "for e in range(epochs):\n",
    "    r_start = 0\n",
    "    n_correct = 0\n",
    "    b = 0\n",
    "    total_loss = 0\n",
    "    while r_start < n_train:\n",
    "        \n",
    "        optimizer.zero_grad()\n",
    "        \n",
    "        r_end = min(n_train, r_start+batch_size)\n",
    "        \n",
    "        # N is number of items\n",
    "        # L is length of a sequence\n",
    "        # H is one hot dimension\n",
    "        X_train_seq = embedding_layer(train_sequences[r_start: r_end].to(device)) # [N, L, H]\n",
    "        \n",
    "        predictions = model(X_train_seq) # [N, 1]\n",
    "        predictions = torch.squeeze(predictions)\n",
    "        loss = loss_func(predictions, y_train_tensor[r_start:r_end].to(device))\n",
    "    \n",
    "        loss.backward()\n",
    "        optimizer.step()\n",
    "        \n",
    "        predicted = predictions.round().cpu()\n",
    "        n_correct += (predicted == y_train_tensor[r_start:r_end]).sum().item()\n",
    "        r_start += batch_size\n",
    "        total_loss += loss.item()\n",
    "        b += 1\n",
    "    print(f\"Epoch: {e}, loss: {total_loss/n_train}, acc:{n_correct/n_train}\")\n",
    "    losses.append(total_loss/len(X_train_clear))"
   ],
   "outputs": [
    {
     "name": "stdout",
     "output_type": "stream",
     "text": [
      "(1193514, 25)\n",
      "Epoch: 0, loss: 3.1159790355318755, acc:0.5007082877748992\n",
      "Epoch: 1, loss: 3.022963387819285, acc:0.7889894914870812\n",
      "Epoch: 2, loss: 2.998264555627795, acc:0.8462396113304499\n",
      "Epoch: 3, loss: 2.9941756364085794, acc:0.8568666210633473\n",
      "Epoch: 4, loss: 2.9889703960526677, acc:0.8670681195094232\n",
      "Epoch: 5, loss: 2.989173363860816, acc:0.8653445294868549\n",
      "Epoch: 6, loss: 2.98381004074401, acc:0.8779913712774495\n",
      "Epoch: 7, loss: 2.981731032275254, acc:0.8825912021501785\n",
      "Epoch: 8, loss: 2.9885410183522993, acc:0.8702136713006102\n",
      "Epoch: 9, loss: 2.9802534297879237, acc:0.886846315018394\n"
     ]
    }
   ],
   "execution_count": 60
  },
  {
   "metadata": {
    "ExecuteTime": {
     "end_time": "2024-11-26T02:11:47.829847Z",
     "start_time": "2024-11-26T02:11:43.042158Z"
    }
   },
   "cell_type": "code",
   "source": [
    "with torch.no_grad():\n",
    "    y_pred = list()\n",
    "    r_start = 0\n",
    "    n_test = len(X_test_clear)\n",
    "    while r_start < n_test:\n",
    "        r_end = min(n_test, r_start+batch_size)\n",
    "        \n",
    "        # N is number of items\n",
    "        # L is length of a sequence\n",
    "        # H is embedding dimension\n",
    "        X_test_seq = embedding_layer(test_sequences[r_start: r_end].to(device)) # [N, L, H]\n",
    "        \n",
    "        predictions = model(X_test_seq) # [N, 1]\n",
    "        predictions = torch.squeeze(predictions)\n",
    "        predicted = predictions.round().cpu()\n",
    "        y_pred.extend(predicted.tolist())\n",
    "        r_start += batch_size\n",
    "\n",
    "acc = accuracy_score(y_test, y_pred)\n",
    "precision = precision_score(y_test, y_pred)\n",
    "recall = recall_score(y_test, y_pred)\n",
    "f1 = f1_score(y_test, y_pred)\n",
    "print(f\"The results for RNN: accuracy {acc:.4f}, precision {precision:.4f}, recall: {recall:.4f}, f1-score: {f1:.4f}\")"
   ],
   "outputs": [
    {
     "name": "stdout",
     "output_type": "stream",
     "text": [
      "The results for RNN: accuracy 0.8743, precision 0.8337, recall: 0.9363, f1-score: 0.8820\n"
     ]
    }
   ],
   "execution_count": 67
  },
  {
   "metadata": {
    "ExecuteTime": {
     "end_time": "2024-11-26T02:11:53.405683Z",
     "start_time": "2024-11-26T02:11:53.401960Z"
    }
   },
   "cell_type": "code",
   "source": "len(y_pred)",
   "outputs": [
    {
     "data": {
      "text/plain": [
       "46415"
      ]
     },
     "execution_count": 68,
     "metadata": {},
     "output_type": "execute_result"
    }
   ],
   "execution_count": 68
  },
  {
   "metadata": {
    "ExecuteTime": {
     "end_time": "2024-11-26T02:11:53.946835Z",
     "start_time": "2024-11-26T02:11:53.853555Z"
    }
   },
   "cell_type": "code",
   "source": [
    "import matplotlib.pyplot as plt\n",
    "\n",
    "plt.plot(losses)\n",
    "plt.ylabel(\"loss\")\n",
    "plt.xlabel(\"epoch\")\n",
    "plt.show()"
   ],
   "outputs": [
    {
     "data": {
      "text/plain": [
       "<Figure size 640x480 with 1 Axes>"
      ],
      "image/png": "[encoded data removed]"
     },
     "metadata": {},
     "output_type": "display_data"
    }
   ],
   "execution_count": 69
  },
  {
   "metadata": {
    "ExecuteTime": {
     "end_time": "2024-11-26T01:23:20.000746Z",
     "start_time": "2024-11-26T01:23:20.000511Z"
    }
   },
   "cell_type": "code",
   "source": "",
   "outputs": [],
   "execution_count": null
  },
  {
   "metadata": {
    "ExecuteTime": {
     "end_time": "2024-11-26T01:23:20.001519Z",
     "start_time": "2024-11-26T01:23:20.001288Z"
    }
   },
   "cell_type": "code",
   "source": "",
   "outputs": [],
   "execution_count": null
  }
 ],
 "metadata": {
  "colab": {
   "provenance": []
  },
  "kernelspec": {
   "display_name": "Python 3 (ipykernel)",
   "name": "python3",
   "language": "python"
  },
  "language_info": {
   "name": "python"
  }
 },
 "nbformat": 4,
 "nbformat_minor": 0
}
