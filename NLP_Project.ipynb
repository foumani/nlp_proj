{
 "cells": [
  {
   "cell_type": "code",
   "source": [
    "import pandas as pd\n",
    "import numpy as np\n",
    "import matplotlib.pyplot as plt\n",
    "from sklearn.feature_extraction.text import TfidfVectorizer\n",
    "from sklearn.model_selection import train_test_split\n",
    "import nltk\n",
    "from nltk.tokenize import word_tokenize\n",
    "from nltk.stem import WordNetLemmatizer\n",
    "from nltk.corpus import stopwords\n",
    "from tqdm import tqdm\n",
    "import json\n",
    "nltk.download('wordnet')\n",
    "nltk.download('stopwords')\n",
    "nltk.download('punkt')\n",
    "nltk.download('punkt_tab')"
   ],
   "metadata": {
    "colab": {
     "base_uri": "https://localhost:8080/"
    },
    "id": "9nLRNOiAEOZ-",
    "outputId": "ce5f2d76-5709-4564-9feb-d7c4262f2667",
    "ExecuteTime": {
     "end_time": "2024-12-07T04:22:34.735582Z",
     "start_time": "2024-12-07T04:22:33.214027Z"
    }
   },
   "outputs": [
    {
     "name": "stderr",
     "output_type": "stream",
     "text": [
      "[nltk_data] Downloading package wordnet to /home/arash/nltk_data...\n",
      "[nltk_data]   Package wordnet is already up-to-date!\n",
      "[nltk_data] Downloading package stopwords to /home/arash/nltk_data...\n",
      "[nltk_data]   Package stopwords is already up-to-date!\n",
      "[nltk_data] Downloading package punkt to /home/arash/nltk_data...\n",
      "[nltk_data]   Package punkt is already up-to-date!\n",
      "[nltk_data] Downloading package punkt_tab to /home/arash/nltk_data...\n",
      "[nltk_data]   Package punkt_tab is already up-to-date!\n"
     ]
    },
    {
     "data": {
      "text/plain": [
       "True"
      ]
     },
     "execution_count": 1,
     "metadata": {},
     "output_type": "execute_result"
    }
   ],
   "execution_count": 1
  },
  {
   "cell_type": "code",
   "execution_count": null,
   "metadata": {
    "colab": {
     "base_uri": "https://localhost:8080/",
     "height": 684
    },
    "id": "WxkMzaYq2ooB",
    "outputId": "6099cfe3-98c8-4eb9-8e67-053cf99f21bf"
   },
   "outputs": [
    {
     "output_type": "execute_result",
     "data": {
      "text/plain": [
       "                                                     text        class\n",
       "0       Ex Wife Threatening SuicideRecently I left my ...      suicide\n",
       "1       Am I weird I don't get affected by compliments...  non-suicide\n",
       "2       Finally 2020 is almost over... So I can never ...  non-suicide\n",
       "3               i need helpjust help me im crying so hard      suicide\n",
       "4       I’m so lostHello, my name is Adam (16) and I’v...      suicide\n",
       "...                                                   ...          ...\n",
       "232069  If you don't like rock then your not going to ...  non-suicide\n",
       "232070  You how you can tell i have so many friends an...  non-suicide\n",
       "232071  pee probably tastes like salty tea😏💦‼️ can som...  non-suicide\n",
       "232072  The usual stuff you find hereI'm not posting t...      suicide\n",
       "232073  I still haven't beaten the first boss in Hollo...  non-suicide\n",
       "\n",
       "[232074 rows x 2 columns]"
      ],
      "text/html": [
       "\n",
       "  <div id=\"df-b7451277-52da-4a30-a268-1cc6ef546395\" class=\"colab-df-container\">\n",
       "    <div>\n",
       "<style scoped>\n",
       "    .dataframe tbody tr th:only-of-type {\n",
       "        vertical-align: middle;\n",
       "    }\n",
       "\n",
       "    .dataframe tbody tr th {\n",
       "        vertical-align: top;\n",
       "    }\n",
       "\n",
       "    .dataframe thead th {\n",
       "        text-align: right;\n",
       "    }\n",
       "</style>\n",
       "<table border=\"1\" class=\"dataframe\">\n",
       "  <thead>\n",
       "    <tr style=\"text-align: right;\">\n",
       "      <th></th>\n",
       "      <th>text</th>\n",
       "      <th>class</th>\n",
       "    </tr>\n",
       "  </thead>\n",
       "  <tbody>\n",
       "    <tr>\n",
       "      <th>0</th>\n",
       "      <td>Ex Wife Threatening SuicideRecently I left my ...</td>\n",
       "      <td>suicide</td>\n",
       "    </tr>\n",
       "    <tr>\n",
       "      <th>1</th>\n",
       "      <td>Am I weird I don't get affected by compliments...</td>\n",
       "      <td>non-suicide</td>\n",
       "    </tr>\n",
       "    <tr>\n",
       "      <th>2</th>\n",
       "      <td>Finally 2020 is almost over... So I can never ...</td>\n",
       "      <td>non-suicide</td>\n",
       "    </tr>\n",
       "    <tr>\n",
       "      <th>3</th>\n",
       "      <td>i need helpjust help me im crying so hard</td>\n",
       "      <td>suicide</td>\n",
       "    </tr>\n",
       "    <tr>\n",
       "      <th>4</th>\n",
       "      <td>I’m so lostHello, my name is Adam (16) and I’v...</td>\n",
       "      <td>suicide</td>\n",
       "    </tr>\n",
       "    <tr>\n",
       "      <th>...</th>\n",
       "      <td>...</td>\n",
       "      <td>...</td>\n",
       "    </tr>\n",
       "    <tr>\n",
       "      <th>232069</th>\n",
       "      <td>If you don't like rock then your not going to ...</td>\n",
       "      <td>non-suicide</td>\n",
       "    </tr>\n",
       "    <tr>\n",
       "      <th>232070</th>\n",
       "      <td>You how you can tell i have so many friends an...</td>\n",
       "      <td>non-suicide</td>\n",
       "    </tr>\n",
       "    <tr>\n",
       "      <th>232071</th>\n",
       "      <td>pee probably tastes like salty tea😏💦‼️ can som...</td>\n",
       "      <td>non-suicide</td>\n",
       "    </tr>\n",
       "    <tr>\n",
       "      <th>232072</th>\n",
       "      <td>The usual stuff you find hereI'm not posting t...</td>\n",
       "      <td>suicide</td>\n",
       "    </tr>\n",
       "    <tr>\n",
       "      <th>232073</th>\n",
       "      <td>I still haven't beaten the first boss in Hollo...</td>\n",
       "      <td>non-suicide</td>\n",
       "    </tr>\n",
       "  </tbody>\n",
       "</table>\n",
       "<p>232074 rows × 2 columns</p>\n",
       "</div>\n",
       "    <div class=\"colab-df-buttons\">\n",
       "\n",
       "  <div class=\"colab-df-container\">\n",
       "    <button class=\"colab-df-convert\" onclick=\"convertToInteractive('df-b7451277-52da-4a30-a268-1cc6ef546395')\"\n",
       "            title=\"Convert this dataframe to an interactive table.\"\n",
       "            style=\"display:none;\">\n",
       "\n",
       "  <svg xmlns=\"http://www.w3.org/2000/svg\" height=\"24px\" viewBox=\"0 -960 960 960\">\n",
       "    <path d=\"M120-120v-720h720v720H120Zm60-500h600v-160H180v160Zm220 220h160v-160H400v160Zm0 220h160v-160H400v160ZM180-400h160v-160H180v160Zm440 0h160v-160H620v160ZM180-180h160v-160H180v160Zm440 0h160v-160H620v160Z\"/>\n",
       "  </svg>\n",
       "    </button>\n",
       "\n",
       "  <style>\n",
       "    .colab-df-container {\n",
       "      display:flex;\n",
       "      gap: 12px;\n",
       "    }\n",
       "\n",
       "    .colab-df-convert {\n",
       "      background-color: #E8F0FE;\n",
       "      border: none;\n",
       "      border-radius: 50%;\n",
       "      cursor: pointer;\n",
       "      display: none;\n",
       "      fill: #1967D2;\n",
       "      height: 32px;\n",
       "      padding: 0 0 0 0;\n",
       "      width: 32px;\n",
       "    }\n",
       "\n",
       "    .colab-df-convert:hover {\n",
       "      background-color: #E2EBFA;\n",
       "      box-shadow: 0px 1px 2px rgba(60, 64, 67, 0.3), 0px 1px 3px 1px rgba(60, 64, 67, 0.15);\n",
       "      fill: #174EA6;\n",
       "    }\n",
       "\n",
       "    .colab-df-buttons div {\n",
       "      margin-bottom: 4px;\n",
       "    }\n",
       "\n",
       "    [theme=dark] .colab-df-convert {\n",
       "      background-color: #3B4455;\n",
       "      fill: #D2E3FC;\n",
       "    }\n",
       "\n",
       "    [theme=dark] .colab-df-convert:hover {\n",
       "      background-color: #434B5C;\n",
       "      box-shadow: 0px 1px 3px 1px rgba(0, 0, 0, 0.15);\n",
       "      filter: drop-shadow(0px 1px 2px rgba(0, 0, 0, 0.3));\n",
       "      fill: #FFFFFF;\n",
       "    }\n",
       "  </style>\n",
       "\n",
       "    <script>\n",
       "      const buttonEl =\n",
       "        document.querySelector('#df-b7451277-52da-4a30-a268-1cc6ef546395 button.colab-df-convert');\n",
       "      buttonEl.style.display =\n",
       "        google.colab.kernel.accessAllowed ? 'block' : 'none';\n",
       "\n",
       "      async function convertToInteractive(key) {\n",
       "        const element = document.querySelector('#df-b7451277-52da-4a30-a268-1cc6ef546395');\n",
       "        const dataTable =\n",
       "          await google.colab.kernel.invokeFunction('convertToInteractive',\n",
       "                                                    [key], {});\n",
       "        if (!dataTable) return;\n",
       "\n",
       "        const docLinkHtml = 'Like what you see? Visit the ' +\n",
       "          '<a target=\"_blank\" href=https://colab.research.google.com/notebooks/data_table.ipynb>data table notebook</a>'\n",
       "          + ' to learn more about interactive tables.';\n",
       "        element.innerHTML = '';\n",
       "        dataTable['output_type'] = 'display_data';\n",
       "        await google.colab.output.renderOutput(dataTable, element);\n",
       "        const docLink = document.createElement('div');\n",
       "        docLink.innerHTML = docLinkHtml;\n",
       "        element.appendChild(docLink);\n",
       "      }\n",
       "    </script>\n",
       "  </div>\n",
       "\n",
       "\n",
       "<div id=\"df-6726842e-054d-491c-bf63-3662c0d7e0a6\">\n",
       "  <button class=\"colab-df-quickchart\" onclick=\"quickchart('df-6726842e-054d-491c-bf63-3662c0d7e0a6')\"\n",
       "            title=\"Suggest charts\"\n",
       "            style=\"display:none;\">\n",
       "\n",
       "<svg xmlns=\"http://www.w3.org/2000/svg\" height=\"24px\"viewBox=\"0 0 24 24\"\n",
       "     width=\"24px\">\n",
       "    <g>\n",
       "        <path d=\"M19 3H5c-1.1 0-2 .9-2 2v14c0 1.1.9 2 2 2h14c1.1 0 2-.9 2-2V5c0-1.1-.9-2-2-2zM9 17H7v-7h2v7zm4 0h-2V7h2v10zm4 0h-2v-4h2v4z\"/>\n",
       "    </g>\n",
       "</svg>\n",
       "  </button>\n",
       "\n",
       "<style>\n",
       "  .colab-df-quickchart {\n",
       "      --bg-color: #E8F0FE;\n",
       "      --fill-color: #1967D2;\n",
       "      --hover-bg-color: #E2EBFA;\n",
       "      --hover-fill-color: #174EA6;\n",
       "      --disabled-fill-color: #AAA;\n",
       "      --disabled-bg-color: #DDD;\n",
       "  }\n",
       "\n",
       "  [theme=dark] .colab-df-quickchart {\n",
       "      --bg-color: #3B4455;\n",
       "      --fill-color: #D2E3FC;\n",
       "      --hover-bg-color: #434B5C;\n",
       "      --hover-fill-color: #FFFFFF;\n",
       "      --disabled-bg-color: #3B4455;\n",
       "      --disabled-fill-color: #666;\n",
       "  }\n",
       "\n",
       "  .colab-df-quickchart {\n",
       "    background-color: var(--bg-color);\n",
       "    border: none;\n",
       "    border-radius: 50%;\n",
       "    cursor: pointer;\n",
       "    display: none;\n",
       "    fill: var(--fill-color);\n",
       "    height: 32px;\n",
       "    padding: 0;\n",
       "    width: 32px;\n",
       "  }\n",
       "\n",
       "  .colab-df-quickchart:hover {\n",
       "    background-color: var(--hover-bg-color);\n",
       "    box-shadow: 0 1px 2px rgba(60, 64, 67, 0.3), 0 1px 3px 1px rgba(60, 64, 67, 0.15);\n",
       "    fill: var(--button-hover-fill-color);\n",
       "  }\n",
       "\n",
       "  .colab-df-quickchart-complete:disabled,\n",
       "  .colab-df-quickchart-complete:disabled:hover {\n",
       "    background-color: var(--disabled-bg-color);\n",
       "    fill: var(--disabled-fill-color);\n",
       "    box-shadow: none;\n",
       "  }\n",
       "\n",
       "  .colab-df-spinner {\n",
       "    border: 2px solid var(--fill-color);\n",
       "    border-color: transparent;\n",
       "    border-bottom-color: var(--fill-color);\n",
       "    animation:\n",
       "      spin 1s steps(1) infinite;\n",
       "  }\n",
       "\n",
       "  @keyframes spin {\n",
       "    0% {\n",
       "      border-color: transparent;\n",
       "      border-bottom-color: var(--fill-color);\n",
       "      border-left-color: var(--fill-color);\n",
       "    }\n",
       "    20% {\n",
       "      border-color: transparent;\n",
       "      border-left-color: var(--fill-color);\n",
       "      border-top-color: var(--fill-color);\n",
       "    }\n",
       "    30% {\n",
       "      border-color: transparent;\n",
       "      border-left-color: var(--fill-color);\n",
       "      border-top-color: var(--fill-color);\n",
       "      border-right-color: var(--fill-color);\n",
       "    }\n",
       "    40% {\n",
       "      border-color: transparent;\n",
       "      border-right-color: var(--fill-color);\n",
       "      border-top-color: var(--fill-color);\n",
       "    }\n",
       "    60% {\n",
       "      border-color: transparent;\n",
       "      border-right-color: var(--fill-color);\n",
       "    }\n",
       "    80% {\n",
       "      border-color: transparent;\n",
       "      border-right-color: var(--fill-color);\n",
       "      border-bottom-color: var(--fill-color);\n",
       "    }\n",
       "    90% {\n",
       "      border-color: transparent;\n",
       "      border-bottom-color: var(--fill-color);\n",
       "    }\n",
       "  }\n",
       "</style>\n",
       "\n",
       "  <script>\n",
       "    async function quickchart(key) {\n",
       "      const quickchartButtonEl =\n",
       "        document.querySelector('#' + key + ' button');\n",
       "      quickchartButtonEl.disabled = true;  // To prevent multiple clicks.\n",
       "      quickchartButtonEl.classList.add('colab-df-spinner');\n",
       "      try {\n",
       "        const charts = await google.colab.kernel.invokeFunction(\n",
       "            'suggestCharts', [key], {});\n",
       "      } catch (error) {\n",
       "        console.error('Error during call to suggestCharts:', error);\n",
       "      }\n",
       "      quickchartButtonEl.classList.remove('colab-df-spinner');\n",
       "      quickchartButtonEl.classList.add('colab-df-quickchart-complete');\n",
       "    }\n",
       "    (() => {\n",
       "      let quickchartButtonEl =\n",
       "        document.querySelector('#df-6726842e-054d-491c-bf63-3662c0d7e0a6 button');\n",
       "      quickchartButtonEl.style.display =\n",
       "        google.colab.kernel.accessAllowed ? 'block' : 'none';\n",
       "    })();\n",
       "  </script>\n",
       "</div>\n",
       "\n",
       "  <div id=\"id_189409f4-bc61-4d1f-b65d-f5b35caebcdb\">\n",
       "    <style>\n",
       "      .colab-df-generate {\n",
       "        background-color: #E8F0FE;\n",
       "        border: none;\n",
       "        border-radius: 50%;\n",
       "        cursor: pointer;\n",
       "        display: none;\n",
       "        fill: #1967D2;\n",
       "        height: 32px;\n",
       "        padding: 0 0 0 0;\n",
       "        width: 32px;\n",
       "      }\n",
       "\n",
       "      .colab-df-generate:hover {\n",
       "        background-color: #E2EBFA;\n",
       "        box-shadow: 0px 1px 2px rgba(60, 64, 67, 0.3), 0px 1px 3px 1px rgba(60, 64, 67, 0.15);\n",
       "        fill: #174EA6;\n",
       "      }\n",
       "\n",
       "      [theme=dark] .colab-df-generate {\n",
       "        background-color: #3B4455;\n",
       "        fill: #D2E3FC;\n",
       "      }\n",
       "\n",
       "      [theme=dark] .colab-df-generate:hover {\n",
       "        background-color: #434B5C;\n",
       "        box-shadow: 0px 1px 3px 1px rgba(0, 0, 0, 0.15);\n",
       "        filter: drop-shadow(0px 1px 2px rgba(0, 0, 0, 0.3));\n",
       "        fill: #FFFFFF;\n",
       "      }\n",
       "    </style>\n",
       "    <button class=\"colab-df-generate\" onclick=\"generateWithVariable('df')\"\n",
       "            title=\"Generate code using this dataframe.\"\n",
       "            style=\"display:none;\">\n",
       "\n",
       "  <svg xmlns=\"http://www.w3.org/2000/svg\" height=\"24px\"viewBox=\"0 0 24 24\"\n",
       "       width=\"24px\">\n",
       "    <path d=\"M7,19H8.4L18.45,9,17,7.55,7,17.6ZM5,21V16.75L18.45,3.32a2,2,0,0,1,2.83,0l1.4,1.43a1.91,1.91,0,0,1,.58,1.4,1.91,1.91,0,0,1-.58,1.4L9.25,21ZM18.45,9,17,7.55Zm-12,3A5.31,5.31,0,0,0,4.9,8.1,5.31,5.31,0,0,0,1,6.5,5.31,5.31,0,0,0,4.9,4.9,5.31,5.31,0,0,0,6.5,1,5.31,5.31,0,0,0,8.1,4.9,5.31,5.31,0,0,0,12,6.5,5.46,5.46,0,0,0,6.5,12Z\"/>\n",
       "  </svg>\n",
       "    </button>\n",
       "    <script>\n",
       "      (() => {\n",
       "      const buttonEl =\n",
       "        document.querySelector('#id_189409f4-bc61-4d1f-b65d-f5b35caebcdb button.colab-df-generate');\n",
       "      buttonEl.style.display =\n",
       "        google.colab.kernel.accessAllowed ? 'block' : 'none';\n",
       "\n",
       "      buttonEl.onclick = () => {\n",
       "        google.colab.notebook.generateWithVariable('df');\n",
       "      }\n",
       "      })();\n",
       "    </script>\n",
       "  </div>\n",
       "\n",
       "    </div>\n",
       "  </div>\n"
      ],
      "application/vnd.google.colaboratory.intrinsic+json": {
       "type": "dataframe",
       "variable_name": "df"
      }
     },
     "metadata": {},
     "execution_count": 3
    }
   ],
   "source": [
    "df = pd.read_csv('data/Suicide_Detection.csv')\n",
    "\n",
    "df = df[[\"text\", \"class\"]]\n",
    "\n",
    "df"
   ]
  },
  {
   "cell_type": "code",
   "source": [
    "suicide_count = df[df['class'] == \"suicide\"].shape[0]\n",
    "non_suicide_count = df[df['class'] == \"non-suicide\"].shape[0]\n",
    "\n",
    "print(f\"Number of 'suicide' tags: {suicide_count}\")\n",
    "print(f\"Number of 'non-suicide' tags: {non_suicide_count}\")\n",
    "\n",
    "df['class'].value_counts().plot.pie(autopct='%1.1f%%', labels=['suicide', 'non-suicide'], colors=['blue', 'red'])"
   ],
   "metadata": {
    "colab": {
     "base_uri": "https://localhost:8080/",
     "height": 458
    },
    "id": "bzqKRbBcM-RS",
    "outputId": "4235b641-d25a-44bc-80fa-10d25ea02a34"
   },
   "execution_count": null,
   "outputs": [
    {
     "output_type": "stream",
     "name": "stdout",
     "text": [
      "Number of 'suicide' tags: 116037\n",
      "Number of 'non-suicide' tags: 116037\n"
     ]
    },
    {
     "output_type": "execute_result",
     "data": {
      "text/plain": [
       "<Axes: ylabel='count'>"
      ]
     },
     "metadata": {},
     "execution_count": 4
    },
    {
     "output_type": "display_data",
     "data": {
      "text/plain": [
       "<Figure size 640x480 with 1 Axes>"
      ],
      "image/png": "[encoded data removed]"
     },
     "metadata": {}
    }
   ]
  },
  {
   "cell_type": "code",
   "source": [
    "df['label'] = df['class'].apply(lambda x: 1 if x == 'suicide' else 0)"
   ],
   "metadata": {
    "id": "YMd8RHhZV5Y4"
   },
   "execution_count": null,
   "outputs": []
  },
  {
   "cell_type": "code",
   "source": [
    "display(f'Number of nulls in text  => {df[\"text\"].isnull().sum()}')\n",
    "display(f'Number of nulls in class => {df[\"class\"].isnull().sum()}')"
   ],
   "metadata": {
    "colab": {
     "base_uri": "https://localhost:8080/",
     "height": 54
    },
    "id": "oQamEIEaLoLO",
    "outputId": "30d6f744-b94e-495f-baf9-92170316288f"
   },
   "execution_count": null,
   "outputs": [
    {
     "output_type": "display_data",
     "data": {
      "text/plain": [
       "'Number of nulls in text  => 0'"
      ],
      "application/vnd.google.colaboratory.intrinsic+json": {
       "type": "string"
      }
     },
     "metadata": {}
    },
    {
     "output_type": "display_data",
     "data": {
      "text/plain": [
       "'Number of nulls in class => 0'"
      ],
      "application/vnd.google.colaboratory.intrinsic+json": {
       "type": "string"
      }
     },
     "metadata": {}
    }
   ]
  },
  {
   "cell_type": "code",
   "execution_count": null,
   "metadata": {
    "id": "dCQ3CYAJ6Ew_"
   },
   "outputs": [],
   "source": [
    "X_train, X_test, y_train, y_test = train_test_split(df['text'], df['label'], test_size=0.2, random_state=0)"
   ]
  },
  {
   "cell_type": "code",
   "execution_count": null,
   "metadata": {
    "id": "CjYaplmY6tlR"
   },
   "outputs": [],
   "source": [
    "X_train_token = [word_tokenize(line) for line in X_train]\n",
    "X_test_token  = [word_tokenize(line) for line in X_test]\n",
    "\n",
    "lemmatizer = WordNetLemmatizer()\n",
    "X_train_lemma = [[lemmatizer.lemmatize(word) for word in line] for line in X_train_token]\n",
    "X_test_lemma  = [[lemmatizer.lemmatize(word) for word in line] for line in X_test_token]\n",
    "\n",
    "X_train_clear = [[word for word in line if word not in stopwords.words('english')] for line in X_train_lemma]\n",
    "X_test_clear  = [[word for word in line if word not in stopwords.words('english')] for line in X_test_lemma]\n",
    "\n",
    "\n"
   ]
  },
  {
   "cell_type": "code",
   "source": [
    "print(X_train.shape)"
   ],
   "metadata": {
    "colab": {
     "base_uri": "https://localhost:8080/"
    },
    "id": "KGvwSDbcrmeK",
    "outputId": "37e7a312-c3ee-439b-aaef-8ef3e451e393"
   },
   "execution_count": null,
   "outputs": [
    {
     "output_type": "stream",
     "name": "stdout",
     "text": [
      "(185659,)\n"
     ]
    }
   ]
  },
  {
   "cell_type": "code",
   "source": [
    "print(X_train)"
   ],
   "metadata": {
    "colab": {
     "base_uri": "https://localhost:8080/"
    },
    "id": "S_zBZ5hdrmb1",
    "outputId": "abb3ece4-1275-401c-bce1-c38824a15a8c"
   },
   "execution_count": null,
   "outputs": [
    {
     "output_type": "stream",
     "name": "stdout",
     "text": [
      "72954     Long Distance relationship tips? So basically ...\n",
      "103428    Beginning to give up on my girlfriendMy girlfr...\n",
      "56933     Friend is suicidal. Please please help.My frie...\n",
      "18662     Rapunzel isn’t my Valentine today Time to just...\n",
      "8399      It’s been a long timeI’ve had a good streak fo...\n",
      "                                ...                        \n",
      "176963    Best idea is prob to kill myselfThinking about...\n",
      "117952    I'm not in any immediate dangerBut on a scale ...\n",
      "173685    Questioning morality I guess that title's pret...\n",
      "43567     Life is awesome, but despite best efforts, i'm...\n",
      "199340    Yea sex is cool but Have you ever tamed a wolf...\n",
      "Name: text, Length: 185659, dtype: object\n"
     ]
    }
   ]
  },
  {
   "cell_type": "code",
   "source": [
    "n_train, n_test = X_train.shape[0], X_test.shape[0]\n",
    "\n",
    "X_train_token = dict()\n",
    "for x, line in tqdm(X_train.items(), total=n_train):\n",
    "    X_train_token[x] = word_tokenize(line)\n",
    "\n",
    "X_test_token = dict()\n",
    "for x, line in tqdm(X_test.items(), total=n_test):\n",
    "    X_test_token[x] = word_tokenize(line)"
   ],
   "metadata": {
    "colab": {
     "base_uri": "https://localhost:8080/"
    },
    "id": "y0vuE5YErmZw",
    "outputId": "2e5b7d02-2219-4716-9edd-b4d17768ff35"
   },
   "execution_count": null,
   "outputs": [
    {
     "output_type": "stream",
     "name": "stderr",
     "text": [
      "100%|██████████| 185659/185659 [04:38<00:00, 667.00it/s]\n",
      "100%|██████████| 46415/46415 [01:11<00:00, 647.44it/s]\n"
     ]
    }
   ]
  },
  {
   "cell_type": "code",
   "source": [
    "lemmatizer = WordNetLemmatizer()\n",
    "\n",
    "X_train_lemma = dict()\n",
    "for x, line in tqdm(X_train_token.items(), total=n_train):\n",
    "    X_train_lemma[x] = [lemmatizer.lemmatize(word) for word in line]\n",
    "\n",
    "X_test_lemma = dict()\n",
    "for x, line in tqdm(X_test_token.items(), total=n_test):\n",
    "    X_test_lemma[x] = [lemmatizer.lemmatize(word) for word in line]"
   ],
   "metadata": {
    "colab": {
     "base_uri": "https://localhost:8080/"
    },
    "id": "yxaZ2KnlrmXW",
    "outputId": "b9220796-7c31-4fc0-aec3-4f3332f10e49"
   },
   "execution_count": null,
   "outputs": [
    {
     "output_type": "stream",
     "name": "stderr",
     "text": [
      "100%|██████████| 185659/185659 [02:27<00:00, 1255.89it/s]\n",
      "100%|██████████| 46415/46415 [00:40<00:00, 1153.92it/s]\n"
     ]
    }
   ]
  },
  {
   "cell_type": "code",
   "source": [
    "X_train_clear = dict()\n",
    "for i, (x, line) in tqdm(enumerate(X_train_lemma.items()), total=n_train):\n",
    "    X_train_clear[x] = [word for word in line if word not in stopwords.words('english')]\n",
    "\n",
    "X_test_clear = dict()\n",
    "for i, (x, line) in tqdm(enumerate(X_test_lemma.items()), total=n_test):\n",
    "    X_test_clear[x] = [word for word in line if word not in stopwords.words('english')]"
   ],
   "metadata": {
    "colab": {
     "base_uri": "https://localhost:8080/"
    },
    "id": "kXZM9d2PrmVB",
    "outputId": "7d6a69d7-e331-4c4f-9ed7-99efbd97330d"
   },
   "execution_count": null,
   "outputs": [
    {
     "output_type": "stream",
     "name": "stderr",
     "text": [
      "100%|██████████| 185659/185659 [53:58<00:00, 57.34it/s]\n",
      "100%|██████████| 46415/46415 [13:34<00:00, 56.99it/s]\n"
     ]
    }
   ]
  },
  {
   "cell_type": "code",
   "source": [
    "X_train_clear_df = pd.DataFrame(X_train_clear.items(), columns=[\"id\", \"text\"])\n",
    "X_test_clear_df = pd.DataFrame(X_test_clear.items(), columns=[\"id\", \"text\"])\n",
    "X_test_clear_df[\"text\"] = X_test_clear_df[\"text\"].apply(json.dumps)\n",
    "X_train_clear_df[\"text\"] = X_train_clear_df[\"text\"].apply(json.dumps)"
   ],
   "metadata": {
    "id": "vKU3wYUUrmSh"
   },
   "execution_count": null,
   "outputs": []
  },
  {
   "cell_type": "code",
   "source": [
    "X_test_clear_df.to_csv(\"data/test_cleared.csv\")\n",
    "X_train_clear_df.to_csv(\"data/train_cleared.csv\")\n",
    "y_train.to_csv(\"data/train_labels.csv\")\n",
    "y_test.to_csv(\"data/test_labels.csv\")"
   ],
   "metadata": {
    "id": "SKaCxAWArmP7"
   },
   "execution_count": null,
   "outputs": []
  },
  {
   "cell_type": "markdown",
   "source": [
    "# Algorithms\n",
    "\n",
    "After preprocessing, the dataset is saved in CSV files. Here, we load the datasets and we apply the algorithms"
   ],
   "metadata": {
    "id": "fhfZZPwDsRdb"
   }
  },
  {
   "cell_type": "code",
   "source": [
    "import pandas as pd\n",
    "import numpy as np\n",
    "import matplotlib.pyplot as plt\n",
    "from sklearn.feature_extraction.text import TfidfVectorizer\n",
    "from sklearn.model_selection import train_test_split\n",
    "import nltk\n",
    "from nltk.tokenize import word_tokenize\n",
    "from nltk.stem import WordNetLemmatizer\n",
    "from nltk.corpus import stopwords\n",
    "from tqdm import tqdm\n",
    "import json\n",
    "import re\n",
    "from sklearn.linear_model import LogisticRegression\n",
    "from sklearn.metrics import accuracy_score, precision_score, recall_score, f1_score\n",
    "nltk.download('wordnet')\n",
    "nltk.download('stopwords')\n",
    "nltk.download('punkt')"
   ],
   "metadata": {
    "colab": {
     "base_uri": "https://localhost:8080/"
    },
    "id": "EcbQCmSNrmNH",
    "outputId": "bf784501-7ce0-496a-ebb6-32c659ef9630",
    "ExecuteTime": {
     "end_time": "2024-12-09T07:02:12.160021Z",
     "start_time": "2024-12-09T07:02:12.151893Z"
    }
   },
   "outputs": [
    {
     "name": "stderr",
     "output_type": "stream",
     "text": [
      "[nltk_data] Downloading package wordnet to /home/arash/nltk_data...\n",
      "[nltk_data]   Package wordnet is already up-to-date!\n",
      "[nltk_data] Downloading package stopwords to /home/arash/nltk_data...\n",
      "[nltk_data]   Package stopwords is already up-to-date!\n",
      "[nltk_data] Downloading package punkt to /home/arash/nltk_data...\n",
      "[nltk_data]   Package punkt is already up-to-date!\n"
     ]
    },
    {
     "data": {
      "text/plain": [
       "True"
      ]
     },
     "execution_count": 15,
     "metadata": {},
     "output_type": "execute_result"
    }
   ],
   "execution_count": 15
  },
  {
   "cell_type": "code",
   "source": [
    "X_test_clear_df = pd.read_csv('data/test_cleared.csv', index_col=0)\n",
    "X_test_clear_df[\"text\"] = X_test_clear_df[\"text\"].apply(json.loads)\n",
    "y_test_df = pd.read_csv(\"data/test_labels.csv\", index_col=0)\n",
    "\n",
    "X_train_clear_df = pd.read_csv('data/train_cleared.csv', index_col=0)\n",
    "X_train_clear_df[\"text\"] = X_train_clear_df[\"text\"].apply(json.loads)\n",
    "y_train_df = pd.read_csv(\"data/train_labels.csv\", index_col=0)"
   ],
   "metadata": {
    "id": "CDB5G1-5rmI4",
    "ExecuteTime": {
     "end_time": "2024-12-09T07:00:02.997960Z",
     "start_time": "2024-12-09T06:59:58.461352Z"
    }
   },
   "outputs": [],
   "execution_count": 2
  },
  {
   "cell_type": "code",
   "source": [
    "X_train_clear = [line for line in X_train_clear_df[\"text\"]]\n",
    "X_test_clear = [line for line in X_test_clear_df[\"text\"]]\n",
    "y_train = y_train_df[\"label\"].tolist()\n",
    "y_test = y_test_df[\"label\"].tolist()"
   ],
   "metadata": {
    "id": "45TvBSKZrmC5",
    "ExecuteTime": {
     "end_time": "2024-12-09T07:00:03.037858Z",
     "start_time": "2024-12-09T07:00:02.999391Z"
    }
   },
   "outputs": [],
   "execution_count": 3
  },
  {
   "cell_type": "code",
   "source": [
    "# Function to remove non-English characters\n",
    "def remove_non_english_characters(text):\n",
    "    # Retain only English letters, and spaces\n",
    "    cleaned_text = re.sub(r'[^a-zA-Z\\s\\n\\t]', '', text)\n",
    "    return cleaned_text\n",
    "\n",
    "X_train_clear = [[remove_non_english_characters(word) for word in text if remove_non_english_characters(word) != \"\"] for text in X_train_clear]\n",
    "X_test_clear = [[remove_non_english_characters(word) for word in text if remove_non_english_characters(word) != \"\"] for text in X_test_clear]"
   ],
   "metadata": {
    "id": "XqSZaB2fsijR",
    "ExecuteTime": {
     "end_time": "2024-12-09T07:00:24.054955Z",
     "start_time": "2024-12-09T07:00:03.039494Z"
    }
   },
   "outputs": [],
   "execution_count": 4
  },
  {
   "cell_type": "code",
   "source": [
    "vectorizer = TfidfVectorizer(preprocessor=' '.join)\n",
    "\n",
    "X_train_vec = vectorizer.fit_transform(X_train_clear)\n",
    "\n",
    "# Apply the vectorizer to the test dataset\n",
    "X_test_vec = vectorizer.transform(X_test_clear)\n",
    "\n",
    "print(f\"Training TF-IDF shape: {X_train_vec.shape}\")\n",
    "print(f\"Test TF-IDF shape: {X_test_vec.shape}\")\n",
    "print(vectorizer.get_feature_names_out())\n",
    "\n",
    "display(X_test_vec.shape)"
   ],
   "metadata": {
    "colab": {
     "base_uri": "https://localhost:8080/",
     "height": 108
    },
    "id": "2DjrjfuvKWub",
    "outputId": "0f0b9e57-ba26-4943-9d75-a887df57af6a",
    "ExecuteTime": {
     "end_time": "2024-12-09T07:00:31.475638Z",
     "start_time": "2024-12-09T07:00:24.056741Z"
    }
   },
   "outputs": [
    {
     "name": "stdout",
     "output_type": "stream",
     "text": [
      "Training TF-IDF shape: (185659, 188241)\n",
      "Test TF-IDF shape: (46415, 188241)\n",
      "['AA' 'AAA' 'AAAA' ... 'zzzzzzzz' 'zzzzzzzzz'\n",
      " 'zzzzzzzzzzzzzzxzzzzxzzzzzzzzzzzzz']\n"
     ]
    },
    {
     "data": {
      "text/plain": [
       "(46415, 188241)"
      ]
     },
     "metadata": {},
     "output_type": "display_data"
    }
   ],
   "execution_count": 5
  },
  {
   "cell_type": "markdown",
   "source": [
    "# Simple Methods\n",
    "\n",
    "## Logistic Regression"
   ],
   "metadata": {
    "id": "JLYi45pXsp4R"
   }
  },
  {
   "cell_type": "code",
   "source": [
    "# Train a model of logistic regression\n",
    "clf = LogisticRegression().fit(X_train_vec, y_train)\n",
    "y_pred = clf.predict(X_test_vec)"
   ],
   "metadata": {
    "id": "Cmp0qnAKsihJ"
   },
   "execution_count": null,
   "outputs": []
  },
  {
   "cell_type": "code",
   "source": [
    "acc = accuracy_score(y_test, y_pred)\n",
    "precision = precision_score(y_test, y_pred)\n",
    "recall = recall_score(y_test, y_pred)\n",
    "f1 = f1_score(y_test, y_pred)"
   ],
   "metadata": {
    "id": "MLmVojDBsien"
   },
   "execution_count": null,
   "outputs": []
  },
  {
   "cell_type": "code",
   "source": [
    "print(f\"The results for Logistic Regression: accuracy {acc:.4f}, precision {precision:.4f}, recall: {recall:.4f}, f1-score: {f1:.4f}\")"
   ],
   "metadata": {
    "colab": {
     "base_uri": "https://localhost:8080/"
    },
    "id": "aphacY_KsicK",
    "outputId": "11f1b40a-49f0-450a-ac34-c95cb52cb50f"
   },
   "execution_count": null,
   "outputs": [
    {
     "output_type": "stream",
     "name": "stdout",
     "text": [
      "The results for Logistic Regression: accuracy 0.9353, precision 0.9443, recall: 0.9257, f1-score: 0.9349\n"
     ]
    }
   ]
  },
  {
   "cell_type": "markdown",
   "source": [
    "## RNN"
   ],
   "metadata": {
    "id": "pJ2tOBGds1a1"
   }
  },
  {
   "cell_type": "code",
   "source": [
    "import torch.nn as nn\n",
    "import torch\n",
    "\n",
    "# Here is a simple implementation of the RNN model enabled by torch.\n",
    "\n",
    "# Using super to use the net like a layer (inherit nn.Module)\n",
    "class RNNNet(nn.Module):\n",
    "    def __init__(self, input_size, hidden_size, dropout=0.0, device=\"cpu\"):\n",
    "        super(RNNNet, self).__init__()\n",
    "        # Define the layers of the network\n",
    "        self.input_size = input_size\n",
    "        self.hidden_size = hidden_size\n",
    "        self.num_layers = 1\n",
    "        self.device = device\n",
    "        # Define the rnn layer here -- it can be RNN or LSTM.\n",
    "        self.rnn_layer = nn.RNN(input_size=self.input_size,\n",
    "                                hidden_size=self.hidden_size,\n",
    "                                num_layers=self.num_layers,\n",
    "                                dropout=dropout,\n",
    "                                batch_first=True,\n",
    "                                bidirectional=True)\n",
    "        # self.fc = nn.Linear(2*self.hidden_size, self.hidden_size)\n",
    "        self.output_layer = nn.Linear(2*self.hidden_size, 1)\n",
    "        self.sigmoid_layer = nn.Sigmoid()\n",
    "\n",
    "    def forward(self, x):\n",
    "\n",
    "        # Initiate hidden layer h_0\n",
    "        h0 = torch.zeros(2*self.num_layers, x.size(0), self.hidden_size, device=self.device)\n",
    "\n",
    "        # Run the RNN layer\n",
    "        out, _ = self.rnn_layer(x, h0)\n",
    "        # Given input, we need to pass the input through the layers\n",
    "        return self.sigmoid_layer(self.output_layer(out[:,-1,:]))\n"
   ],
   "metadata": {
    "id": "w8oN9MkKsiZ2",
    "ExecuteTime": {
     "end_time": "2024-12-09T07:00:33.520653Z",
     "start_time": "2024-12-09T07:00:31.477542Z"
    }
   },
   "outputs": [],
   "execution_count": 6
  },
  {
   "cell_type": "code",
   "source": [
    "import gensim\n",
    "import gensim.downloader\n",
    "import torch\n",
    "\n",
    "glove = gensim.downloader.load(\"glove-twitter-25\")\n",
    "vocab = glove.key_to_index\n",
    "vectors = glove.vectors\n",
    "embeddings = torch.tensor(vectors)\n",
    "\n",
    "embedding_layer = nn.Embedding.from_pretrained(embeddings)\n",
    "embedding_layer.weight.requires_grad = False"
   ],
   "metadata": {
    "colab": {
     "base_uri": "https://localhost:8080/"
    },
    "id": "Nm17JIfusiXi",
    "outputId": "7a38c033-ae2b-44c8-96ac-c1778e5612c8",
    "ExecuteTime": {
     "end_time": "2024-12-09T07:00:51.670783Z",
     "start_time": "2024-12-09T07:00:33.521588Z"
    }
   },
   "outputs": [],
   "execution_count": 7
  },
  {
   "cell_type": "code",
   "source": [
    "len(X_train_clear)"
   ],
   "metadata": {
    "colab": {
     "base_uri": "https://localhost:8080/"
    },
    "id": "doPTWR_-siVW",
    "outputId": "d98734b6-403b-4164-9ab5-1dea1af9eefe",
    "ExecuteTime": {
     "end_time": "2024-12-09T07:00:51.677096Z",
     "start_time": "2024-12-09T07:00:51.672765Z"
    }
   },
   "outputs": [
    {
     "data": {
      "text/plain": [
       "185659"
      ]
     },
     "execution_count": 8,
     "metadata": {},
     "output_type": "execute_result"
    }
   ],
   "execution_count": 8
  },
  {
   "cell_type": "code",
   "source": [
    "X_train_seq = None\n",
    "X_test_seq = None\n",
    "\n",
    "len_words = 200\n",
    "device = \"cuda:1\" if torch.cuda.is_available() else \"cpu\""
   ],
   "metadata": {
    "id": "blUpdEMUsiTE",
    "ExecuteTime": {
     "end_time": "2024-12-09T07:01:01.430266Z",
     "start_time": "2024-12-09T07:01:01.426779Z"
    }
   },
   "outputs": [],
   "execution_count": 11
  },
  {
   "cell_type": "code",
   "source": [
    "# Text to indices\n",
    "train_indices= [[vocab[word] for word in document[:len_words] if word in glove] for document in X_train_clear]\n",
    "test_indices = [[vocab[word] for word in document[:len_words] if word in glove] for document in X_test_clear]\n",
    "print(train_indices[0])\n",
    "\n",
    "# First pad the input to the same length as torch needs to process multi-\n",
    "# dimensional vectors\n",
    "from torch.nn.utils.rnn import pad_sequence, pack_padded_sequence\n",
    "train_sequences = pad_sequence([torch.tensor(s) for s in train_indices], batch_first=True, padding_value=0)\n",
    "test_sequences = pad_sequence([torch.tensor(s) for s in test_indices], batch_first=True, padding_value=0)\n",
    "\n",
    "print(train_sequences.shape)"
   ],
   "metadata": {
    "colab": {
     "base_uri": "https://localhost:8080/"
    },
    "id": "SxO5x9tVsiQ4",
    "outputId": "2adca715-e4d8-437e-a85b-a97347f9a0be",
    "ExecuteTime": {
     "end_time": "2024-12-09T07:01:10.092665Z",
     "start_time": "2024-12-09T07:01:01.431105Z"
    }
   },
   "outputs": [
    {
     "name": "stdout",
     "output_type": "stream",
     "text": [
      "[990, 4635, 3208, 616, 258, 1423, 1371, 1302, 653, 670, 813, 264, 435, 1371, 571, 463, 5239, 990, 717, 1423, 1030, 9950, 115, 5270, 813, 9950, 631, 1709, 635, 4635, 129, 2276, 922, 698, 410, 1210, 63, 137, 2512, 173, 574, 9950, 5270, 115, 463, 137, 2512, 173, 574, 1090, 726412, 3186, 182, 1709, 1948, 190, 182, 4709, 990, 635, 4635, 363, 990, 200, 515, 182, 68, 5270, 6707, 173, 1103]\n",
      "torch.Size([185659, 200])\n"
     ]
    }
   ],
   "execution_count": 12
  },
  {
   "cell_type": "code",
   "source": [
    "from torch.nn.utils.rnn import pad_sequence\n",
    "# Now let's try the RNN model!\n",
    "# RNN requires some computing resource, so let's move to GPU.\n",
    "\n",
    "# Define the hyperparameters of model training\n",
    "lr = 0.001 # Learning rate\n",
    "epochs = 10 # Training epochs\n",
    "batch_size = 256\n",
    "\n",
    "print(vectors.shape)\n",
    "# Initialize model\n",
    "model = RNNNet(vectors.shape[-1], 128, device=device).to(device)\n",
    "# model = RNNNet(X_train_seq.size())\n",
    "\n",
    "# We use binary cross entropy as the loss\n",
    "loss_func = nn.CrossEntropyLoss()\n",
    "\n",
    "# Using Adam as the optimizer.\n",
    "optimizer = torch.optim.Adam(model.parameters(), lr=lr)\n",
    "\n",
    "# Putting labels in tensors\n",
    "y_train_tensor = torch.Tensor(y_train)\n",
    "y_test_tensor = torch.Tensor(y_test)\n",
    "losses = []\n",
    "n_train = train_sequences.shape[0]\n",
    "embedding_layer = embedding_layer.to(device)\n",
    "\n",
    "# Repeat the learning process for the number of epochs\n",
    "for e in range(epochs):\n",
    "    r_start = 0\n",
    "    n_correct = 0\n",
    "    b = 0\n",
    "    total_loss = 0\n",
    "    while r_start < n_train:\n",
    "\n",
    "        optimizer.zero_grad()\n",
    "\n",
    "        r_end = min(n_train, r_start+batch_size)\n",
    "\n",
    "        # N is number of items\n",
    "        # L is length of a sequence\n",
    "        # H is one hot dimension\n",
    "        X_train_seq = embedding_layer(train_sequences[r_start: r_end].to(device)) # [N, L, H]\n",
    "        predictions = model(X_train_seq) # [N, 1]\n",
    "        predictions = torch.squeeze(predictions)\n",
    "        loss = loss_func(predictions, y_train_tensor[r_start:r_end].to(device))\n",
    "\n",
    "        loss.backward()\n",
    "        optimizer.step()\n",
    "\n",
    "        predicted = predictions.round().cpu()\n",
    "        n_correct += (predicted == y_train_tensor[r_start:r_end]).sum().item()\n",
    "        r_start += batch_size\n",
    "        total_loss += loss.item()\n",
    "        b += 1\n",
    "    print(f\"Epoch: {e}, loss: {total_loss/n_train}, acc:{n_correct/n_train}\")\n",
    "    losses.append(total_loss/len(X_train_clear))"
   ],
   "metadata": {
    "colab": {
     "base_uri": "https://localhost:8080/"
    },
    "id": "8shE8eCDsiOd",
    "outputId": "dcedab45-e3d3-425d-d158-7b95a5748dc8",
    "ExecuteTime": {
     "end_time": "2024-12-09T07:01:50.284727Z",
     "start_time": "2024-12-09T07:01:14.414454Z"
    }
   },
   "outputs": [
    {
     "name": "stdout",
     "output_type": "stream",
     "text": [
      "(1193514, 25)\n",
      "Epoch: 0, loss: 2.769883166491677, acc:0.4996041129166914\n",
      "Epoch: 1, loss: 2.7698927166416243, acc:0.5003797284268471\n",
      "Epoch: 2, loss: 2.7700916092807963, acc:0.49924323625571615\n",
      "Epoch: 3, loss: 2.7699084071599263, acc:0.4995717956037682\n",
      "Epoch: 4, loss: 2.7699068807796783, acc:0.4995717956037682\n",
      "Epoch: 5, loss: 2.76990566473821, acc:0.4995717956037682\n",
      "Epoch: 6, loss: 2.7699051778613746, acc:0.4995771818225887\n",
      "Epoch: 7, loss: 2.7699047767879517, acc:0.4995771818225887\n",
      "Epoch: 8, loss: 2.769904494392812, acc:0.4995771818225887\n",
      "Epoch: 9, loss: 2.7699339742756424, acc:0.4997172235119224\n"
     ]
    }
   ],
   "execution_count": 13
  },
  {
   "cell_type": "code",
   "source": [
    "with torch.no_grad():\n",
    "    y_pred = list()\n",
    "    r_start = 0\n",
    "    n_test = len(X_test_clear)\n",
    "    while r_start < n_test:\n",
    "        r_end = min(n_test, r_start+batch_size)\n",
    "\n",
    "        # N is number of items\n",
    "        # L is length of a sequence\n",
    "        # H is embedding dimension\n",
    "        X_test_seq = embedding_layer(test_sequences[r_start: r_end].to(device)) # [N, L, H]\n",
    "\n",
    "        predictions = model(X_test_seq) # [N, 1]\n",
    "        predictions = torch.squeeze(predictions)\n",
    "        predicted = predictions.round().cpu()\n",
    "        y_pred.extend(predicted.tolist())\n",
    "        r_start += batch_size\n",
    "\n",
    "acc = accuracy_score(y_test, y_pred)\n",
    "precision = precision_score(y_test, y_pred)\n",
    "recall = recall_score(y_test, y_pred)\n",
    "f1 = f1_score(y_test, y_pred)\n",
    "print(f\"The results for RNN: accuracy {acc:.4f}, precision {precision:.4f}, recall: {recall:.4f}, f1-score: {f1:.4f}\")"
   ],
   "metadata": {
    "colab": {
     "base_uri": "https://localhost:8080/"
    },
    "id": "jnTSzjnBsiMJ",
    "outputId": "4558e6d1-6287-4f45-bf9e-3adac003fbbe",
    "ExecuteTime": {
     "end_time": "2024-12-09T07:02:16.401621Z",
     "start_time": "2024-12-09T07:02:15.997011Z"
    }
   },
   "outputs": [
    {
     "name": "stdout",
     "output_type": "stream",
     "text": [
      "The results for RNN: accuracy 0.5022, precision 0.5020, recall: 0.9986, f1-score: 0.6681\n"
     ]
    }
   ],
   "execution_count": 16
  },
  {
   "cell_type": "code",
   "source": [
    "len(y_pred)"
   ],
   "metadata": {
    "colab": {
     "base_uri": "https://localhost:8080/"
    },
    "id": "dH8MacUosiKC",
    "outputId": "454f72a7-d083-4d8a-bc10-7ef61f6223ea",
    "ExecuteTime": {
     "end_time": "2024-12-09T07:02:37.841116Z",
     "start_time": "2024-12-09T07:02:37.837429Z"
    }
   },
   "outputs": [
    {
     "data": {
      "text/plain": [
       "46415"
      ]
     },
     "execution_count": 17,
     "metadata": {},
     "output_type": "execute_result"
    }
   ],
   "execution_count": 17
  },
  {
   "cell_type": "code",
   "source": [
    "import matplotlib.pyplot as plt\n",
    "\n",
    "plt.plot(losses)\n",
    "plt.title(\"RNN Loss over Epochs\")\n",
    "plt.ylabel(\"loss\")\n",
    "plt.xlabel(\"epoch\")\n",
    "plt.show()"
   ],
   "metadata": {
    "colab": {
     "base_uri": "https://localhost:8080/",
     "height": 472
    },
    "id": "zZauXtbmsiH0",
    "outputId": "9b6f0e92-f2d2-4dce-fc87-23548a6b43b5",
    "ExecuteTime": {
     "end_time": "2024-12-09T07:02:43.499762Z",
     "start_time": "2024-12-09T07:02:43.402253Z"
    }
   },
   "outputs": [
    {
     "data": {
      "text/plain": [
       "<Figure size 640x480 with 1 Axes>"
      ],
      "image/png": "[encoded data removed]"
     },
     "metadata": {},
     "output_type": "display_data"
    }
   ],
   "execution_count": 18
  },
  {
   "metadata": {},
   "cell_type": "markdown",
   "source": [
    "### Testing with fewer words in each document\n",
    "\n",
    "This is discussed in the paper as reducing the padding. We reduced the number of words to 30 (effectively reducing the padding in many documents)"
   ]
  },
  {
   "metadata": {
    "ExecuteTime": {
     "end_time": "2024-12-09T08:24:15.008197Z",
     "start_time": "2024-12-09T08:24:15.004263Z"
    }
   },
   "cell_type": "code",
   "source": [
    "X_train_seq = None\n",
    "X_test_seq = None\n",
    "\n",
    "len_words = 30"
   ],
   "outputs": [],
   "execution_count": 89
  },
  {
   "metadata": {
    "ExecuteTime": {
     "end_time": "2024-12-09T08:24:23.176811Z",
     "start_time": "2024-12-09T08:24:15.325192Z"
    }
   },
   "cell_type": "code",
   "source": [
    "# Text to indices\n",
    "train_indices= [[vocab[word] for word in document[:len_words] if word in glove] for document in X_train_clear]\n",
    "test_indices = [[vocab[word] for word in document[:len_words] if word in glove] for document in X_test_clear]\n",
    "print(train_indices[0])\n",
    "\n",
    "# First pad the input to the same length as torch needs to process multi-\n",
    "# dimensional vectors\n",
    "from torch.nn.utils.rnn import pad_sequence, pack_padded_sequence\n",
    "train_sequences = pad_sequence([torch.tensor(s) for s in train_indices], batch_first=True, padding_value=0)\n",
    "test_sequences = pad_sequence([torch.tensor(s) for s in test_indices], batch_first=True, padding_value=0)\n",
    "\n",
    "print(train_sequences.shape)"
   ],
   "outputs": [
    {
     "name": "stdout",
     "output_type": "stream",
     "text": [
      "[990, 4635, 3208, 616, 258, 1423, 1371, 1302, 653, 670, 813, 264, 435, 1371, 571, 463, 5239, 990, 717, 1423, 1030, 9950, 115, 5270, 813, 9950, 631]\n",
      "torch.Size([185659, 30])\n"
     ]
    }
   ],
   "execution_count": 90
  },
  {
   "metadata": {
    "ExecuteTime": {
     "end_time": "2024-12-09T08:24:46.770272Z",
     "start_time": "2024-12-09T08:24:28.570602Z"
    }
   },
   "cell_type": "code",
   "source": [
    "from torch.nn.utils.rnn import pad_sequence\n",
    "# Now let's try the RNN model!\n",
    "# RNN requires some computing resource, so let's move to GPU.\n",
    "\n",
    "# Define the hyperparameters of model training\n",
    "lr = 0.001 # Learning rate\n",
    "epochs = 10 # Training epochs\n",
    "batch_size = 256\n",
    "\n",
    "print(vectors.shape)\n",
    "# Initialize model\n",
    "model = RNNNet(vectors.shape[-1], 128, device=device).to(device)\n",
    "# model = RNNNet(X_train_seq.size())\n",
    "\n",
    "# We use binary cross entropy as the loss\n",
    "loss_func = nn.CrossEntropyLoss()\n",
    "\n",
    "# Using Adam as the optimizer.\n",
    "optimizer = torch.optim.Adam(model.parameters(), lr=lr)\n",
    "\n",
    "# Putting labels in tensors\n",
    "y_train_tensor = torch.Tensor(y_train)\n",
    "y_test_tensor = torch.Tensor(y_test)\n",
    "losses = []\n",
    "n_train = train_sequences.shape[0]\n",
    "embedding_layer = embedding_layer.to(device)\n",
    "\n",
    "# Repeat the learning process for the number of epochs\n",
    "for e in range(epochs):\n",
    "    r_start = 0\n",
    "    n_correct = 0\n",
    "    b = 0\n",
    "    total_loss = 0\n",
    "    while r_start < n_train:\n",
    "\n",
    "        optimizer.zero_grad()\n",
    "\n",
    "        r_end = min(n_train, r_start+batch_size)\n",
    "\n",
    "        # N is number of items\n",
    "        # L is length of a sequence\n",
    "        # H is one hot dimension\n",
    "        X_train_seq = embedding_layer(train_sequences[r_start: r_end].to(device)) # [N, L, H]\n",
    "        predictions = model(X_train_seq) # [N, 1]\n",
    "        predictions = torch.squeeze(predictions)\n",
    "        loss = loss_func(predictions, y_train_tensor[r_start:r_end].to(device))\n",
    "\n",
    "        loss.backward()\n",
    "        optimizer.step()\n",
    "\n",
    "        predicted = predictions.round().cpu()\n",
    "        n_correct += (predicted == y_train_tensor[r_start:r_end]).sum().item()\n",
    "        r_start += batch_size\n",
    "        total_loss += loss.item()\n",
    "        b += 1\n",
    "    print(f\"Epoch: {e}, loss: {total_loss/n_train}, acc:{n_correct/n_train}\")\n",
    "    losses.append(total_loss/len(X_train_clear))"
   ],
   "outputs": [
    {
     "name": "stdout",
     "output_type": "stream",
     "text": [
      "(1193514, 25)\n",
      "Epoch: 0, loss: 2.7248558186740692, acc:0.654845711761886\n",
      "Epoch: 1, loss: 2.760314348261395, acc:0.533332615170824\n",
      "Epoch: 2, loss: 2.760284796629159, acc:0.533456498203696\n",
      "Epoch: 3, loss: 2.7601644791225795, acc:0.5338550783964149\n",
      "Epoch: 4, loss: 2.760122869439789, acc:0.5340058925233897\n",
      "Epoch: 5, loss: 2.76012124032557, acc:0.534059754711595\n",
      "Epoch: 6, loss: 2.760107766847456, acc:0.5341190031186207\n",
      "Epoch: 7, loss: 2.7600750742678835, acc:0.5342374999326722\n",
      "Epoch: 8, loss: 2.759576961253575, acc:0.5360472694563689\n",
      "Epoch: 9, loss: 2.7385732650664374, acc:0.6774462859328123\n"
     ]
    }
   ],
   "execution_count": 92
  },
  {
   "metadata": {
    "ExecuteTime": {
     "end_time": "2024-12-09T08:24:47.046989Z",
     "start_time": "2024-12-09T08:24:46.779274Z"
    }
   },
   "cell_type": "code",
   "source": [
    "with torch.no_grad():\n",
    "    y_pred = list()\n",
    "    r_start = 0\n",
    "    n_test = len(X_test_clear)\n",
    "    while r_start < n_test:\n",
    "        r_end = min(n_test, r_start+batch_size)\n",
    "\n",
    "        # N is number of items\n",
    "        # L is length of a sequence\n",
    "        # H is embedding dimension\n",
    "        X_test_seq = embedding_layer(test_sequences[r_start: r_end].to(device)) # [N, L, H]\n",
    "\n",
    "        predictions = model(X_test_seq) # [N, 1]\n",
    "        predictions = torch.squeeze(predictions)\n",
    "        predicted = predictions.round().cpu()\n",
    "        y_pred.extend(predicted.tolist())\n",
    "        r_start += batch_size\n",
    "\n",
    "acc = accuracy_score(y_test, y_pred)\n",
    "precision = precision_score(y_test, y_pred)\n",
    "recall = recall_score(y_test, y_pred)\n",
    "f1 = f1_score(y_test, y_pred)\n",
    "print(f\"The results for RNN: accuracy {acc:.4f}, precision {precision:.4f}, recall: {recall:.4f}, f1-score: {f1:.4f}\")"
   ],
   "outputs": [
    {
     "name": "stdout",
     "output_type": "stream",
     "text": [
      "The results for RNN: accuracy 0.6889, precision 0.7246, recall: 0.6129, f1-score: 0.6641\n"
     ]
    }
   ],
   "execution_count": 93
  },
  {
   "metadata": {},
   "cell_type": "markdown",
   "source": [
    "As it is evident, reducing the number of words in each document (effectively lowering the padding) in the training of the RNN model improves the accuracy.\n",
    "\n",
    "We get to Run with fewer words per document than 50 and the results even improved more!!! Because of time constraints and lengthy run of this dataset we couldn't properly do every experiment that we desired. "
   ]
  },
  {
   "cell_type": "markdown",
   "source": [
    "## LSTM"
   ],
   "metadata": {
    "id": "zLWnGTewtEqc"
   }
  },
  {
   "cell_type": "code",
   "source": [
    "import torch.nn as nn\n",
    "import torch\n",
    "\n",
    "class LSTMNet(nn.Module):\n",
    "    def __init__(self, input_size, hidden_size, dropout=0.0, device=\"cpu\"):\n",
    "        super(LSTMNet, self).__init__()\n",
    "\n",
    "        # Define the layers of the network\n",
    "        self.input_size = input_size\n",
    "        self.hidden_size = hidden_size\n",
    "        self.num_layers = 2\n",
    "        self.device = device\n",
    "\n",
    "        self.lstm_layer = nn.LSTM(input_size=self.input_size,\n",
    "                                hidden_size=self.hidden_size,\n",
    "                                num_layers=self.num_layers,\n",
    "                                dropout=dropout,\n",
    "                                batch_first=True,\n",
    "                                bidirectional=True)\n",
    "        self.output_layer = nn.Linear(2*self.hidden_size, 1)\n",
    "        self.sigmoid_layer = nn.Sigmoid()\n",
    "\n",
    "    def forward(self, x):\n",
    "        # Initiate hidden layer h_0\n",
    "        h0 = torch.zeros(2*self.num_layers, x.size(0), self.hidden_size, device=self.device)\n",
    "        c0 = torch.zeros(2*self.num_layers, x.size(0), self.hidden_size, device=self.device)\n",
    "\n",
    "        out, _ = self.lstm_layer(x, (h0, c0))\n",
    "\n",
    "        return self.sigmoid_layer(self.output_layer(out[:,-1,:]))"
   ],
   "metadata": {
    "id": "itGfz0O5siFd",
    "ExecuteTime": {
     "end_time": "2024-12-09T07:30:23.571954Z",
     "start_time": "2024-12-09T07:30:23.547478Z"
    }
   },
   "outputs": [],
   "execution_count": 55
  },
  {
   "cell_type": "code",
   "source": [
    "X_train_seq = None\n",
    "X_test_seq = None\n",
    "\n",
    "len_words = 200\n",
    "\n",
    "# Text to indices\n",
    "train_indices = [[vocab[word] for word in document[:len_words] if word in glove]\n",
    "                 for document in X_train_clear]\n",
    "test_indices = [[vocab[word] for word in document[:len_words] if word in glove]\n",
    "                for document in X_test_clear]\n",
    "print(train_indices[0])\n",
    "\n",
    "# First pad the input to the same length as torch needs to process multi-\n",
    "# dimensional vectors\n",
    "from torch.nn.utils.rnn import pad_sequence, pack_padded_sequence\n",
    "\n",
    "train_sequences = pad_sequence([torch.tensor(s) for s in train_indices],\n",
    "                               batch_first=True, padding_value=0)\n",
    "test_sequences = pad_sequence([torch.tensor(s) for s in test_indices],\n",
    "                              batch_first=True, padding_value=0)\n",
    "\n",
    "print(train_sequences.shape)"
   ],
   "metadata": {
    "id": "D37Lz9dTtJIy",
    "ExecuteTime": {
     "end_time": "2024-12-09T07:30:35.049738Z",
     "start_time": "2024-12-09T07:30:23.759347Z"
    }
   },
   "outputs": [
    {
     "name": "stdout",
     "output_type": "stream",
     "text": [
      "[990, 4635, 3208, 616, 258, 1423, 1371, 1302, 653, 670, 813, 264, 435, 1371, 571, 463, 5239, 990, 717, 1423, 1030, 9950, 115, 5270, 813, 9950, 631, 1709, 635, 4635, 129, 2276, 922, 698, 410, 1210, 63, 137, 2512, 173, 574, 9950, 5270, 115, 463, 137, 2512, 173, 574, 1090, 726412, 3186, 182, 1709, 1948, 190, 182, 4709, 990, 635, 4635, 363, 990, 200, 515, 182, 68, 5270, 6707, 173, 1103]\n",
      "torch.Size([185659, 200])\n"
     ]
    }
   ],
   "execution_count": 56
  },
  {
   "cell_type": "code",
   "source": [
    "from torch.nn.utils.rnn import pad_sequence\n",
    "# Define the hyperparameters of model training\n",
    "lr = 0.001 # Learning rate\n",
    "epochs = 100 # Training epochs\n",
    "batch_size = 256\n",
    "\n",
    "print(vectors.shape)\n",
    "# Initialize model\n",
    "model = LSTMNet(vectors.shape[-1], 128, device=device).to(device)\n",
    "\n",
    "# Binary cross entropy as the loss\n",
    "loss_func = nn.CrossEntropyLoss()\n",
    "\n",
    "# Using Adam as the optimizer.\n",
    "optimizer = torch.optim.Adam(model.parameters(), lr=lr)\n",
    "\n",
    "# Putting labels in tensors\n",
    "y_train_tensor = torch.Tensor(y_train)\n",
    "y_test_tensor = torch.Tensor(y_test)\n",
    "losses = []\n",
    "n_train = train_sequences.shape[0]\n",
    "embedding_layer = embedding_layer.to(device)"
   ],
   "metadata": {
    "colab": {
     "base_uri": "https://localhost:8080/"
    },
    "id": "gNW6r5k1tJGT",
    "outputId": "5630304f-2105-4017-aa25-34ecbc7c18d2",
    "ExecuteTime": {
     "end_time": "2024-12-09T07:31:18.944058Z",
     "start_time": "2024-12-09T07:31:18.908902Z"
    }
   },
   "outputs": [
    {
     "name": "stdout",
     "output_type": "stream",
     "text": [
      "(1193514, 25)\n"
     ]
    }
   ],
   "execution_count": 60
  },
  {
   "metadata": {
    "ExecuteTime": {
     "end_time": "2024-12-09T07:40:31.166440Z",
     "start_time": "2024-12-09T07:31:19.221548Z"
    }
   },
   "cell_type": "code",
   "source": [
    "# Repeat the learning process for the number of epochs\n",
    "for e in range(epochs):\n",
    "    r_start = 0\n",
    "    n_correct = 0\n",
    "    b = 0\n",
    "    total_loss = 0\n",
    "    while r_start < n_train:\n",
    "\n",
    "        optimizer.zero_grad()\n",
    "\n",
    "        r_end = min(n_train, r_start+batch_size)\n",
    "\n",
    "        # N is number of items\n",
    "        # L is length of a sequence\n",
    "        # H is one hot dimension\n",
    "        X_train_seq = embedding_layer(train_sequences[r_start: r_end].to(device)) # [N, L, H]\n",
    "\n",
    "        predictions = model(X_train_seq) # [N, 1]\n",
    "        predictions = torch.squeeze(predictions)\n",
    "        loss = loss_func(predictions, y_train_tensor[r_start:r_end].to(device))\n",
    "\n",
    "        loss.backward()\n",
    "        optimizer.step()\n",
    "\n",
    "        predicted = predictions.round().cpu()\n",
    "        n_correct += (predicted == y_train_tensor[r_start:r_end]).sum().item()\n",
    "        r_start += batch_size\n",
    "        total_loss += loss.item()\n",
    "        b += 1\n",
    "    print(f\"Epoch: {e}, loss: {total_loss/n_train}, acc:{n_correct/n_train}\")\n",
    "    losses.append(total_loss/len(X_train_clear))"
   ],
   "outputs": [
    {
     "name": "stdout",
     "output_type": "stream",
     "text": [
      "Epoch: 0, loss: 2.7697403626557042, acc:0.49999192067176923\n",
      "Epoch: 1, loss: 2.769896915091365, acc:0.49972799594956346\n",
      "Epoch: 2, loss: 2.769885974334386, acc:0.49985187898243555\n",
      "Epoch: 3, loss: 2.698741841647155, acc:0.7259761175057498\n",
      "Epoch: 4, loss: 2.640079513351816, acc:0.8735854442822594\n",
      "Epoch: 5, loss: 2.6336540590489803, acc:0.8877889033119859\n",
      "Epoch: 6, loss: 2.630204147882864, acc:0.8951841817525679\n",
      "Epoch: 7, loss: 2.6296282705946497, acc:0.8968108198363667\n",
      "Epoch: 8, loss: 2.6261620859976795, acc:0.9041953258393075\n",
      "Epoch: 9, loss: 2.6244354985676788, acc:0.9079549065760345\n",
      "Epoch: 10, loss: 2.6231233266214113, acc:0.9103733188264507\n",
      "Epoch: 11, loss: 2.6220320152480907, acc:0.9135996638999456\n",
      "Epoch: 12, loss: 2.6210564785673385, acc:0.9155009991435912\n",
      "Epoch: 13, loss: 2.6200243549469073, acc:0.9178170732364173\n",
      "Epoch: 14, loss: 2.6189562630536907, acc:0.9201977819550897\n",
      "Epoch: 15, loss: 2.6181468350403976, acc:0.9219267581964785\n",
      "Epoch: 16, loss: 2.6272336216979797, acc:0.9014698991161215\n",
      "Epoch: 17, loss: 2.6175183540962164, acc:0.9232625404639689\n",
      "Epoch: 18, loss: 2.615917973089483, acc:0.926930555480747\n",
      "Epoch: 19, loss: 2.6150527454485712, acc:0.928826504505572\n",
      "Epoch: 20, loss: 2.614280177110184, acc:0.9308463365632692\n"
     ]
    },
    {
     "ename": "KeyboardInterrupt",
     "evalue": "",
     "output_type": "error",
     "traceback": [
      "\u001B[0;31m---------------------------------------------------------------------------\u001B[0m",
      "\u001B[0;31mKeyboardInterrupt\u001B[0m                         Traceback (most recent call last)",
      "Cell \u001B[0;32mIn[61], line 25\u001B[0m\n\u001B[1;32m     22\u001B[0m loss\u001B[38;5;241m.\u001B[39mbackward()\n\u001B[1;32m     23\u001B[0m optimizer\u001B[38;5;241m.\u001B[39mstep()\n\u001B[0;32m---> 25\u001B[0m predicted \u001B[38;5;241m=\u001B[39m \u001B[43mpredictions\u001B[49m\u001B[38;5;241;43m.\u001B[39;49m\u001B[43mround\u001B[49m\u001B[43m(\u001B[49m\u001B[43m)\u001B[49m\u001B[38;5;241;43m.\u001B[39;49m\u001B[43mcpu\u001B[49m\u001B[43m(\u001B[49m\u001B[43m)\u001B[49m\n\u001B[1;32m     26\u001B[0m n_correct \u001B[38;5;241m+\u001B[39m\u001B[38;5;241m=\u001B[39m (predicted \u001B[38;5;241m==\u001B[39m y_train_tensor[r_start:r_end])\u001B[38;5;241m.\u001B[39msum()\u001B[38;5;241m.\u001B[39mitem()\n\u001B[1;32m     27\u001B[0m r_start \u001B[38;5;241m+\u001B[39m\u001B[38;5;241m=\u001B[39m batch_size\n",
      "\u001B[0;31mKeyboardInterrupt\u001B[0m: "
     ]
    }
   ],
   "execution_count": 61
  },
  {
   "cell_type": "code",
   "source": [
    "from sklearn.linear_model import LogisticRegression\n",
    "from sklearn.metrics import accuracy_score, precision_score, recall_score, f1_score\n",
    "\n",
    "\n",
    "with torch.no_grad():\n",
    "    y_pred = list()\n",
    "    r_start = 0\n",
    "    n_test = len(X_test_clear)\n",
    "    while r_start < n_test:\n",
    "        r_end = min(n_test, r_start+batch_size)\n",
    "\n",
    "        # N is number of items\n",
    "        # L is length of a sequence\n",
    "        # H is embedding dimension\n",
    "        X_test_seq = embedding_layer(test_sequences[r_start: r_end].to(device)) # [N, L, H]\n",
    "\n",
    "        predictions = model(X_test_seq) # [N, 1]\n",
    "        predictions = torch.squeeze(predictions)\n",
    "        predicted = predictions.round().cpu()\n",
    "        y_pred.extend(predicted.tolist())\n",
    "        r_start += batch_size\n",
    "\n",
    "acc = accuracy_score(y_test, y_pred)\n",
    "precision = precision_score(y_test, y_pred)\n",
    "recall = recall_score(y_test, y_pred)\n",
    "f1 = f1_score(y_test, y_pred)\n",
    "print(f\"The results for LSTM: accuracy {acc:.4f}, precision {precision:.4f}, recall: {recall:.4f}, f1-score: {f1:.4f}\")"
   ],
   "metadata": {
    "id": "ke5uxbLotJEN",
    "ExecuteTime": {
     "end_time": "2024-12-09T07:40:36.618142Z",
     "start_time": "2024-12-09T07:40:33.562631Z"
    }
   },
   "outputs": [
    {
     "name": "stdout",
     "output_type": "stream",
     "text": [
      "The results for LSTM: accuracy 0.9141, precision 0.9168, recall: 0.9117, f1-score: 0.9142\n"
     ]
    }
   ],
   "execution_count": 62
  },
  {
   "cell_type": "code",
   "source": [
    "import matplotlib.pyplot as plt\n",
    "\n",
    "plt.plot(losses)\n",
    "plt.title(\"LSTM Loss over Epochs\")\n",
    "plt.ylabel(\"loss\")\n",
    "plt.xlabel(\"epoch\")\n",
    "plt.show()"
   ],
   "metadata": {
    "id": "N-_IHbJMtJCJ",
    "ExecuteTime": {
     "end_time": "2024-12-09T07:40:36.733733Z",
     "start_time": "2024-12-09T07:40:36.621577Z"
    }
   },
   "outputs": [
    {
     "data": {
      "text/plain": [
       "<Figure size 640x480 with 1 Axes>"
      ],
      "image/png": "[encoded data removed]"
     },
     "metadata": {},
     "output_type": "display_data"
    }
   ],
   "execution_count": 63
  },
  {
   "metadata": {},
   "cell_type": "markdown",
   "source": [
    "### Increasing the number of the words per document to 500\n",
    "\n",
    "In this experiment we want to see the effect of increasing the number of words in documents to 500 words. In most documents this leads to effectively increasing the size of the padding as many documents are very short."
   ]
  },
  {
   "metadata": {
    "ExecuteTime": {
     "end_time": "2024-12-09T07:41:03.526098Z",
     "start_time": "2024-12-09T07:40:49.991592Z"
    }
   },
   "cell_type": "code",
   "source": [
    "X_train_seq = None\n",
    "X_test_seq = None\n",
    "\n",
    "len_words = 500\n",
    "\n",
    "# Text to indices\n",
    "train_indices = [[vocab[word] for word in document[:len_words] if word in glove]\n",
    "                 for document in X_train_clear]\n",
    "test_indices = [[vocab[word] for word in document[:len_words] if word in glove]\n",
    "                for document in X_test_clear]\n",
    "print(train_indices[0])\n",
    "\n",
    "# First pad the input to the same length as torch needs to process multi-\n",
    "# dimensional vectors\n",
    "from torch.nn.utils.rnn import pad_sequence, pack_padded_sequence\n",
    "\n",
    "train_sequences = pad_sequence([torch.tensor(s) for s in train_indices],\n",
    "                               batch_first=True, padding_value=0)\n",
    "test_sequences = pad_sequence([torch.tensor(s) for s in test_indices],\n",
    "                              batch_first=True, padding_value=0)\n",
    "\n",
    "print(train_sequences.shape)"
   ],
   "outputs": [
    {
     "name": "stdout",
     "output_type": "stream",
     "text": [
      "[990, 4635, 3208, 616, 258, 1423, 1371, 1302, 653, 670, 813, 264, 435, 1371, 571, 463, 5239, 990, 717, 1423, 1030, 9950, 115, 5270, 813, 9950, 631, 1709, 635, 4635, 129, 2276, 922, 698, 410, 1210, 63, 137, 2512, 173, 574, 9950, 5270, 115, 463, 137, 2512, 173, 574, 1090, 726412, 3186, 182, 1709, 1948, 190, 182, 4709, 990, 635, 4635, 363, 990, 200, 515, 182, 68, 5270, 6707, 173, 1103]\n",
      "torch.Size([185659, 500])\n"
     ]
    }
   ],
   "execution_count": 64
  },
  {
   "metadata": {
    "ExecuteTime": {
     "end_time": "2024-12-09T07:52:01.083605Z",
     "start_time": "2024-12-09T07:41:13.846740Z"
    }
   },
   "cell_type": "code",
   "source": [
    "from torch.nn.utils.rnn import pad_sequence\n",
    "\n",
    "# Define the hyperparameters of model training\n",
    "lr = 0.001  # Learning rate\n",
    "epochs = 10  # Training epochs\n",
    "batch_size = 128\n",
    "\n",
    "print(vectors.shape)\n",
    "# Initialize model\n",
    "model = LSTMNet(vectors.shape[-1], 128, device=device).to(device)\n",
    "\n",
    "# Binary cross entropy as the loss\n",
    "loss_func = nn.CrossEntropyLoss()\n",
    "\n",
    "# Using Adam as the optimizer.\n",
    "optimizer = torch.optim.Adam(model.parameters(), lr=lr)\n",
    "\n",
    "# Putting labels in tensors\n",
    "y_train_tensor = torch.Tensor(y_train)\n",
    "y_test_tensor = torch.Tensor(y_test)\n",
    "losses = []\n",
    "n_train = train_sequences.shape[0]\n",
    "embedding_layer = embedding_layer.to(device)\n",
    "# Repeat the learning process for the number of epochs\n",
    "for e in range(epochs):\n",
    "    r_start = 0\n",
    "    n_correct = 0\n",
    "    b = 0\n",
    "    total_loss = 0\n",
    "    while r_start < n_train:\n",
    "        optimizer.zero_grad()\n",
    "\n",
    "        r_end = min(n_train, r_start + batch_size)\n",
    "\n",
    "        # N is number of items\n",
    "        # L is length of a sequence\n",
    "        # H is one hot dimension\n",
    "        X_train_seq = embedding_layer(\n",
    "            train_sequences[r_start: r_end].to(device))  # [N, L, H]\n",
    "\n",
    "        predictions = model(X_train_seq)  # [N, 1]\n",
    "        predictions = torch.squeeze(predictions)\n",
    "        loss = loss_func(predictions, y_train_tensor[r_start:r_end].to(device))\n",
    "\n",
    "        loss.backward()\n",
    "        optimizer.step()\n",
    "\n",
    "        predicted = predictions.round().cpu()\n",
    "        n_correct += (predicted == y_train_tensor[r_start:r_end]).sum().item()\n",
    "        r_start += batch_size\n",
    "        total_loss += loss.item()\n",
    "        b += 1\n",
    "    print(\n",
    "        f\"Epoch: {e}, loss: {total_loss / n_train}, acc:{n_correct / n_train}\")\n",
    "    losses.append(total_loss / len(X_train_clear))"
   ],
   "outputs": [
    {
     "name": "stdout",
     "output_type": "stream",
     "text": [
      "(1193514, 25)\n",
      "Epoch: 0, loss: 2.423753755755088, acc:0.5012307510004902\n",
      "Epoch: 1, loss: 2.4237353593472695, acc:0.49871000059248405\n",
      "Epoch: 2, loss: 2.4213165202577502, acc:0.5081251110907632\n",
      "Epoch: 3, loss: 2.4199586838832303, acc:0.5206157525355625\n",
      "Epoch: 4, loss: 2.42375576556031, acc:0.5004389768338728\n",
      "Epoch: 5, loss: 2.423755090228278, acc:0.5004389768338728\n",
      "Epoch: 6, loss: 2.405771004339425, acc:0.5562940660027255\n",
      "Epoch: 7, loss: 2.3277713264286697, acc:0.7921996779041145\n",
      "Epoch: 8, loss: 2.3866919327351375, acc:0.6115458986636791\n",
      "Epoch: 9, loss: 2.36658170325084, acc:0.6741553062334711\n"
     ]
    }
   ],
   "execution_count": 66
  },
  {
   "metadata": {},
   "cell_type": "markdown",
   "source": "As it is evident, LSTM model has much trouble to converge to a good point. We hypothesize that the reason is the very large padding that is at the end of each document."
  },
  {
   "metadata": {},
   "cell_type": "markdown",
   "source": "# CNN"
  },
  {
   "metadata": {
    "ExecuteTime": {
     "end_time": "2024-12-09T07:53:52.264523Z",
     "start_time": "2024-12-09T07:53:52.257557Z"
    }
   },
   "cell_type": "code",
   "source": [
    "class CNN(nn.Module):\n",
    "    def __init__(self,  embedding_dim, num_filters, filter_sizes, num_classes, embedding_layer):\n",
    "        super(CNN, self).__init__()\n",
    "        # Define the layers of the network\n",
    "        self.embedding_layer = embedding_layer\n",
    "        self.convs = nn.ModuleList([\n",
    "            nn.Conv1d(in_channels=embedding_dim, out_channels=num_filters, kernel_size=k)\n",
    "            for k in filter_sizes\n",
    "        ])\n",
    "        self.fc = nn.Linear(num_filters * len(filter_sizes), 128)\n",
    "        self.fc2 = nn.Linear(128, num_classes)\n",
    "        \n",
    "        \n",
    "    def forward(self, input):\n",
    "        # Given input, we need to pass the input through the layers\n",
    "        embedded = self.embedding_layer(input)\n",
    "        embedded = embedded.permute(0, 2, 1) # Adjust for 1D convolution\n",
    "        conv_x = [torch.relu(conv(embedded)) for conv in self.convs]\n",
    "        pool_x = [nn.functional.max_pool1d(conv, conv.size(2)).squeeze(2) for conv in conv_x]\n",
    "        pool_x = torch.cat(pool_x, 1)\n",
    "        res = self.fc(pool_x)\n",
    "        res = self.fc2(nn.functional.relu(res))\n",
    "        return res"
   ],
   "outputs": [],
   "execution_count": 67
  },
  {
   "metadata": {
    "ExecuteTime": {
     "end_time": "2024-12-09T07:54:01.547959Z",
     "start_time": "2024-12-09T07:53:52.635241Z"
    }
   },
   "cell_type": "code",
   "source": [
    "X_train_seq = None\n",
    "X_test_seq = None\n",
    "\n",
    "len_words = 200\n",
    "\n",
    "# Text to indices\n",
    "train_indices = [[vocab[word] for word in document[:len_words] if word in glove]\n",
    "                 for document in X_train_clear]\n",
    "test_indices = [[vocab[word] for word in document[:len_words] if word in glove]\n",
    "                for document in X_test_clear]\n",
    "print(train_indices[100])\n",
    "\n",
    "# First pad the input to the same length as torch needs to process multi-\n",
    "# dimensional vectors\n",
    "from torch.nn.utils.rnn import pad_sequence\n",
    "\n",
    "train_sequences = pad_sequence([torch.tensor(s) for s in train_indices],\n",
    "                               batch_first=True, padding_value=0)\n",
    "test_sequences = pad_sequence([torch.tensor(s) for s in test_indices],\n",
    "                              batch_first=True, padding_value=0)\n",
    "lengths = [max(len(s), 1) for s in train_indices]\n",
    "print(train_sequences.shape)"
   ],
   "outputs": [
    {
     "name": "stdout",
     "output_type": "stream",
     "text": [
      "[9950, 272, 226, 211, 6832, 338, 363, 9950, 245, 81988, 338, 196, 258, 569, 1948, 597, 1024, 1948, 258, 1302, 9950, 232, 744, 272, 582, 1697, 1213]\n",
      "torch.Size([185659, 200])\n"
     ]
    }
   ],
   "execution_count": 68
  },
  {
   "metadata": {
    "ExecuteTime": {
     "end_time": "2024-12-09T07:57:24.856930Z",
     "start_time": "2024-12-09T07:57:24.848457Z"
    }
   },
   "cell_type": "code",
   "source": "train_sequences[100]",
   "outputs": [
    {
     "data": {
      "text/plain": [
       "tensor([ 9950,   272,   226,   211,  6832,   338,   363,  9950,   245, 81988,\n",
       "          338,   196,   258,   569,  1948,   597,  1024,  1948,   258,  1302,\n",
       "         9950,   232,   744,   272,   582,  1697,  1213,     0,     0,     0,\n",
       "            0,     0,     0,     0,     0,     0,     0,     0,     0,     0,\n",
       "            0,     0,     0,     0,     0,     0,     0,     0,     0,     0,\n",
       "            0,     0,     0,     0,     0,     0,     0,     0,     0,     0,\n",
       "            0,     0,     0,     0,     0,     0,     0,     0,     0,     0,\n",
       "            0,     0,     0,     0,     0,     0,     0,     0,     0,     0,\n",
       "            0,     0,     0,     0,     0,     0,     0,     0,     0,     0,\n",
       "            0,     0,     0,     0,     0,     0,     0,     0,     0,     0,\n",
       "            0,     0,     0,     0,     0,     0,     0,     0,     0,     0,\n",
       "            0,     0,     0,     0,     0,     0,     0,     0,     0,     0,\n",
       "            0,     0,     0,     0,     0,     0,     0,     0,     0,     0,\n",
       "            0,     0,     0,     0,     0,     0,     0,     0,     0,     0,\n",
       "            0,     0,     0,     0,     0,     0,     0,     0,     0,     0,\n",
       "            0,     0,     0,     0,     0,     0,     0,     0,     0,     0,\n",
       "            0,     0,     0,     0,     0,     0,     0,     0,     0,     0,\n",
       "            0,     0,     0,     0,     0,     0,     0,     0,     0,     0,\n",
       "            0,     0,     0,     0,     0,     0,     0,     0,     0,     0,\n",
       "            0,     0,     0,     0,     0,     0,     0,     0,     0,     0])"
      ]
     },
     "execution_count": 74,
     "metadata": {},
     "output_type": "execute_result"
    }
   ],
   "execution_count": 74
  },
  {
   "metadata": {
    "ExecuteTime": {
     "end_time": "2024-12-09T07:55:41.491025Z",
     "start_time": "2024-12-09T07:54:12.939557Z"
    }
   },
   "cell_type": "code",
   "source": [
    "from torch.nn.utils.rnn import pad_sequence\n",
    "# Now let's try the RNN model!\n",
    "# RNN requires some computing resource, so let's move to GPU.\n",
    "from torch.nn.utils.rnn import pack_padded_sequence, pad_packed_sequence\n",
    "\n",
    "# Define the hyperparameters of model training\n",
    "lr = 0.001 # Learning rate\n",
    "epochs = 50 # Training epochs\n",
    "batch_size = 512\n",
    "\n",
    "print(vectors.shape)\n",
    "# Initialize model\n",
    "# model = RNNNet(vectors.shape[-1], 128,  device=device).to(device)\n",
    "model = CNN(vectors.shape[1], 4, [1,2,3,4,5], 2, embedding_layer).to(device)\n",
    "# model = RNNNet(X_train_seq.size())\n",
    "\n",
    "# We use binary cross entropy as the loss\n",
    "loss_func = nn.CrossEntropyLoss()\n",
    "\n",
    "# Using Adam as the optimizer.\n",
    "optimizer = torch.optim.Adam(model.parameters(), lr=lr)\n",
    "\n",
    "# Putting labels in tensors\n",
    "y_train_tensor = torch.LongTensor(y_train)\n",
    "y_test_tensor = torch.LongTensor(y_test)\n",
    "losses = []\n",
    "n_train = train_sequences.shape[0]\n",
    "embedding_layer = embedding_layer.to(device)\n",
    "\n",
    "# Repeat the learning process for the number of epochs\n",
    "for e in range(epochs):\n",
    "    r_start = 0\n",
    "    n_correct = 0\n",
    "    b = 0\n",
    "    total_loss = 0\n",
    "    while r_start < n_train:\n",
    "        \n",
    "        optimizer.zero_grad()\n",
    "        \n",
    "        r_end = min(n_train, r_start+batch_size)\n",
    "        \n",
    "        # N is number of items1\n",
    "        # L is length of a sequence\n",
    "        # H is glove dimension\n",
    "        # X_train_seq = embedding_layer(train_sequences[r_start: r_end].to(device))\n",
    "        # predictions = model(X_train_seq, lengths[r_start: r_end])  # Modify model to handle packed sequences\n",
    "        X = train_sequences[r_start:r_end].to(device)\n",
    "        predictions = model(X)\n",
    "        predictions = predictions.squeeze().softmax(dim=1)\n",
    "        loss = loss_func(predictions, y_train_tensor[r_start:r_end].to(device))\n",
    "    \n",
    "        loss.backward()\n",
    "        optimizer.step()\n",
    "        predicted = torch.argmax(predictions.round(), dim = 1).cpu()\n",
    "        n_correct += (predicted == y_train_tensor[r_start:r_end]).sum().item()\n",
    "        r_start += batch_size\n",
    "        total_loss += loss.item()\n",
    "        b += 1\n",
    "        if (b+1) % 1000 == 0:\n",
    "            print(n_correct / (b+1))\n",
    "    print(f\"Epoch: {e}, loss: {total_loss/n_train}, acc:{n_correct/n_train}\")\n",
    "    losses.append(total_loss/len(X_train_clear))"
   ],
   "outputs": [
    {
     "name": "stdout",
     "output_type": "stream",
     "text": [
      "(1193514, 25)\n",
      "Epoch: 0, loss: 0.0009315671681483265, acc:0.8360596577596562\n",
      "Epoch: 1, loss: 0.0008489183743615831, acc:0.8741132937266709\n",
      "Epoch: 2, loss: 0.0008350365320838047, acc:0.8812177163509445\n",
      "Epoch: 3, loss: 0.0008274851895265256, acc:0.8856936641908014\n",
      "Epoch: 4, loss: 0.0008224447926756403, acc:0.8885214290715775\n",
      "Epoch: 5, loss: 0.0008185773453684135, acc:0.8906705303809672\n",
      "Epoch: 6, loss: 0.0008148693426289273, acc:0.8929866044737933\n",
      "Epoch: 7, loss: 0.0008122385404089653, acc:0.8943331591789248\n",
      "Epoch: 8, loss: 0.0008101827965680405, acc:0.8957766658228257\n",
      "Epoch: 9, loss: 0.0008085685058978674, acc:0.8968108198363667\n",
      "Epoch: 10, loss: 0.00080733878331451, acc:0.8976241388782661\n",
      "Epoch: 11, loss: 0.0008064701094805187, acc:0.8981250572285749\n",
      "Epoch: 12, loss: 0.000806458031978571, acc:0.8980873536968312\n",
      "Epoch: 13, loss: 0.0008065246294358153, acc:0.8976726148476508\n",
      "Epoch: 14, loss: 0.000807749034091475, acc:0.897090903215034\n",
      "Epoch: 15, loss: 0.0008092663191726307, acc:0.8958251417922104\n",
      "Epoch: 16, loss: 0.0008068545512366545, acc:0.897306351967855\n",
      "Epoch: 17, loss: 0.000806140305021137, acc:0.8977318632546766\n",
      "Epoch: 18, loss: 0.0008046326043773916, acc:0.8988198794564228\n",
      "Epoch: 19, loss: 0.000803925293507528, acc:0.8995416327783733\n",
      "Epoch: 20, loss: 0.0008034279350780891, acc:0.8996655158112453\n",
      "Epoch: 21, loss: 0.0008029708371287673, acc:0.8999994613781179\n",
      "Epoch: 22, loss: 0.0008027380886622577, acc:0.90043035888376\n",
      "Epoch: 23, loss: 0.0008029185656027399, acc:0.9002364550062211\n",
      "Epoch: 24, loss: 0.0008049670803430624, acc:0.8984751614519092\n",
      "Epoch: 25, loss: 0.0008041846778428119, acc:0.8987121550800122\n",
      "Epoch: 26, loss: 0.0008019468993575691, acc:0.9002795447567853\n",
      "Epoch: 27, loss: 0.0008004994976155127, acc:0.9013244712079673\n",
      "Epoch: 28, loss: 0.0007992398719020586, acc:0.9023963287532519\n",
      "Epoch: 29, loss: 0.0007982351542121443, acc:0.9030157439176124\n",
      "Epoch: 30, loss: 0.0007977117918883749, acc:0.903247351326895\n",
      "Epoch: 31, loss: 0.0007973494742139448, acc:0.9033550757033055\n",
      "Epoch: 32, loss: 0.0007970775189326085, acc:0.9036297728631524\n",
      "Epoch: 33, loss: 0.0007971370470084711, acc:0.9037536558960244\n",
      "Epoch: 34, loss: 0.000797144845961569, acc:0.903872152710076\n",
      "Epoch: 35, loss: 0.0007971121410834559, acc:0.9034843449549982\n",
      "Epoch: 36, loss: 0.0007975610551483321, acc:0.903031902574074\n",
      "Epoch: 37, loss: 0.0007977188598250601, acc:0.9031073096375614\n",
      "Epoch: 38, loss: 0.0007989064468728071, acc:0.9020354520922766\n",
      "Epoch: 39, loss: 0.0007982065269095503, acc:0.9028433849153555\n",
      "Epoch: 40, loss: 0.0007969110878127503, acc:0.9036243866443319\n",
      "Epoch: 41, loss: 0.0007959709552784227, acc:0.9043838434980259\n",
      "Epoch: 42, loss: 0.0007956124524052764, acc:0.9047501063778217\n",
      "Epoch: 43, loss: 0.0007957151370961083, acc:0.9045508162814623\n",
      "Epoch: 44, loss: 0.0007960053093578146, acc:0.9041145325569997\n",
      "Epoch: 45, loss: 0.0007969166860115625, acc:0.9037105661454602\n",
      "Epoch: 46, loss: 0.000797992912324102, acc:0.902816453821253\n",
      "Epoch: 47, loss: 0.0007989012196399435, acc:0.9022239697509951\n",
      "Epoch: 48, loss: 0.0007989496888853898, acc:0.9016153270242757\n",
      "Epoch: 49, loss: 0.0007977395727593606, acc:0.9027033432260219\n"
     ]
    }
   ],
   "execution_count": 70
  },
  {
   "metadata": {
    "ExecuteTime": {
     "end_time": "2024-12-09T07:55:41.906890Z",
     "start_time": "2024-12-09T07:55:41.498307Z"
    }
   },
   "cell_type": "code",
   "source": [
    "with torch.no_grad():\n",
    "    y_pred = list()\n",
    "    r_start = 0\n",
    "    n_test = len(X_test_clear)\n",
    "    while r_start < n_test:\n",
    "        r_end = min(n_test, r_start+batch_size)\n",
    "        \n",
    "        # N is number of items\n",
    "        # L is length of a sequence\n",
    "        # H is embedding dimension\n",
    "        X_test_seq = embedding_layer(test_sequences[r_start: r_end].to(device)) # [N, L, H]\n",
    "        \n",
    "        predictions = model(test_sequences[r_start: r_end].to(device)) # [N, 1]\n",
    "        predictions = predictions.squeeze().softmax(dim=1)\n",
    "        predicted = torch.argmax(predictions.round(), dim = 1).cpu()\n",
    "        y_pred.extend(predicted.tolist())\n",
    "        r_start += batch_size\n",
    "\n",
    "acc = accuracy_score(y_test, y_pred)\n",
    "precision = precision_score(y_test, y_pred)\n",
    "recall = recall_score(y_test, y_pred)\n",
    "f1 = f1_score(y_test, y_pred)\n",
    "print(f\"The results for RNN: accuracy {acc:.4f}, precision {precision:.4f}, recall: {recall:.4f}, f1-score: {f1:.4f}\")"
   ],
   "outputs": [
    {
     "name": "stdout",
     "output_type": "stream",
     "text": [
      "The results for RNN: accuracy 0.8927, precision 0.9004, recall: 0.8840, f1-score: 0.8921\n"
     ]
    }
   ],
   "execution_count": 71
  },
  {
   "metadata": {
    "ExecuteTime": {
     "end_time": "2024-12-09T07:55:41.986701Z",
     "start_time": "2024-12-09T07:55:41.908070Z"
    }
   },
   "cell_type": "code",
   "source": [
    "import matplotlib.pyplot as plt\n",
    "\n",
    "plt.plot(losses)\n",
    "plt.ylabel(\"loss\")\n",
    "plt.xlabel(\"epoch\")\n",
    "plt.show()"
   ],
   "outputs": [
    {
     "data": {
      "text/plain": [
       "<Figure size 640x480 with 1 Axes>"
      ],
      "image/png": "[encoded data removed]"
     },
     "metadata": {},
     "output_type": "display_data"
    }
   ],
   "execution_count": 72
  }
 ],
 "metadata": {
  "colab": {
   "provenance": []
  },
  "kernelspec": {
   "display_name": "Python 3 (ipykernel)",
   "name": "python3",
   "language": "python"
  },
  "language_info": {
   "name": "python"
  }
 },
 "nbformat": 4,
 "nbformat_minor": 0
}
